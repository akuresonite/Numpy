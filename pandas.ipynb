{
 "cells": [
  {
   "cell_type": "markdown",
   "source": [
    "# Getting start Pandas"
   ],
   "metadata": {
    "collapsed": false,
    "pycharm": {
     "name": "#%% md\n"
    }
   }
  },
  {
   "cell_type": "code",
   "execution_count": 2,
   "outputs": [],
   "source": [
    "import pandas as pd\n",
    "import numpy as np"
   ],
   "metadata": {
    "collapsed": false,
    "pycharm": {
     "name": "#%%\n"
    }
   }
  },
  {
   "cell_type": "code",
   "execution_count": 3,
   "id": "30af0901",
   "metadata": {
    "pycharm": {
     "name": "#%%\n"
    }
   },
   "outputs": [],
   "source": [
    "dict1 = {\n",
    "    \"Name\":[\"Ashish\",\"Sameer\",\"Rajesh\",\"Preity\"],\n",
    "    \"Roll_No.\":[22082028,22082027,22082031,22092032],\n",
    "    \"City\":[\"Morena\",\"Bhopal\",\"Patna\",\"Patna\"]\n",
    "}"
   ]
  },
  {
   "cell_type": "code",
   "execution_count": 4,
   "id": "48d0ceb1",
   "metadata": {
    "pycharm": {
     "name": "#%%\n"
    }
   },
   "outputs": [
    {
     "data": {
      "text/plain": "{'Name': ['Ashish', 'Sameer', 'Rajesh', 'Preity'],\n 'Roll_No.': [22082028, 22082027, 22082031, 22092032],\n 'City': ['Morena', 'Bhopal', 'Patna', 'Patna']}"
     },
     "execution_count": 4,
     "metadata": {},
     "output_type": "execute_result"
    }
   ],
   "source": [
    "dict1"
   ]
  },
  {
   "cell_type": "code",
   "execution_count": 5,
   "id": "8ca87541",
   "metadata": {
    "pycharm": {
     "name": "#%%\n"
    }
   },
   "outputs": [],
   "source": [
    "df = pd.DataFrame(dict1)"
   ]
  },
  {
   "cell_type": "code",
   "execution_count": 6,
   "id": "84874592",
   "metadata": {
    "pycharm": {
     "name": "#%%\n"
    }
   },
   "outputs": [
    {
     "data": {
      "text/plain": "     Name  Roll_No.    City\n0  Ashish  22082028  Morena\n1  Sameer  22082027  Bhopal\n2  Rajesh  22082031   Patna\n3  Preity  22092032   Patna",
      "text/html": "<div>\n<style scoped>\n    .dataframe tbody tr th:only-of-type {\n        vertical-align: middle;\n    }\n\n    .dataframe tbody tr th {\n        vertical-align: top;\n    }\n\n    .dataframe thead th {\n        text-align: right;\n    }\n</style>\n<table border=\"1\" class=\"dataframe\">\n  <thead>\n    <tr style=\"text-align: right;\">\n      <th></th>\n      <th>Name</th>\n      <th>Roll_No.</th>\n      <th>City</th>\n    </tr>\n  </thead>\n  <tbody>\n    <tr>\n      <th>0</th>\n      <td>Ashish</td>\n      <td>22082028</td>\n      <td>Morena</td>\n    </tr>\n    <tr>\n      <th>1</th>\n      <td>Sameer</td>\n      <td>22082027</td>\n      <td>Bhopal</td>\n    </tr>\n    <tr>\n      <th>2</th>\n      <td>Rajesh</td>\n      <td>22082031</td>\n      <td>Patna</td>\n    </tr>\n    <tr>\n      <th>3</th>\n      <td>Preity</td>\n      <td>22092032</td>\n      <td>Patna</td>\n    </tr>\n  </tbody>\n</table>\n</div>"
     },
     "execution_count": 6,
     "metadata": {},
     "output_type": "execute_result"
    }
   ],
   "source": [
    "df"
   ]
  },
  {
   "cell_type": "code",
   "execution_count": 7,
   "id": "e5a8221f",
   "metadata": {
    "pycharm": {
     "name": "#%%\n"
    }
   },
   "outputs": [],
   "source": [
    "df.to_csv(\"friends.csv\")"
   ]
  },
  {
   "cell_type": "code",
   "execution_count": 8,
   "id": "bbe6ea9a",
   "metadata": {
    "pycharm": {
     "name": "#%%\n"
    }
   },
   "outputs": [],
   "source": [
    "df.to_csv(\"friends_index_false.csv\",index=False)"
   ]
  },
  {
   "cell_type": "code",
   "execution_count": 9,
   "id": "9a920869",
   "metadata": {
    "pycharm": {
     "name": "#%%\n"
    }
   },
   "outputs": [
    {
     "data": {
      "text/plain": "     Name  Roll_No.    City\n0  Ashish  22082028  Morena\n1  Sameer  22082027  Bhopal",
      "text/html": "<div>\n<style scoped>\n    .dataframe tbody tr th:only-of-type {\n        vertical-align: middle;\n    }\n\n    .dataframe tbody tr th {\n        vertical-align: top;\n    }\n\n    .dataframe thead th {\n        text-align: right;\n    }\n</style>\n<table border=\"1\" class=\"dataframe\">\n  <thead>\n    <tr style=\"text-align: right;\">\n      <th></th>\n      <th>Name</th>\n      <th>Roll_No.</th>\n      <th>City</th>\n    </tr>\n  </thead>\n  <tbody>\n    <tr>\n      <th>0</th>\n      <td>Ashish</td>\n      <td>22082028</td>\n      <td>Morena</td>\n    </tr>\n    <tr>\n      <th>1</th>\n      <td>Sameer</td>\n      <td>22082027</td>\n      <td>Bhopal</td>\n    </tr>\n  </tbody>\n</table>\n</div>"
     },
     "execution_count": 9,
     "metadata": {},
     "output_type": "execute_result"
    }
   ],
   "source": [
    "df.head(2)"
   ]
  },
  {
   "cell_type": "code",
   "execution_count": 10,
   "id": "ba6c771c",
   "metadata": {
    "pycharm": {
     "name": "#%%\n"
    }
   },
   "outputs": [
    {
     "data": {
      "text/plain": "     Name  Roll_No.   City\n2  Rajesh  22082031  Patna\n3  Preity  22092032  Patna",
      "text/html": "<div>\n<style scoped>\n    .dataframe tbody tr th:only-of-type {\n        vertical-align: middle;\n    }\n\n    .dataframe tbody tr th {\n        vertical-align: top;\n    }\n\n    .dataframe thead th {\n        text-align: right;\n    }\n</style>\n<table border=\"1\" class=\"dataframe\">\n  <thead>\n    <tr style=\"text-align: right;\">\n      <th></th>\n      <th>Name</th>\n      <th>Roll_No.</th>\n      <th>City</th>\n    </tr>\n  </thead>\n  <tbody>\n    <tr>\n      <th>2</th>\n      <td>Rajesh</td>\n      <td>22082031</td>\n      <td>Patna</td>\n    </tr>\n    <tr>\n      <th>3</th>\n      <td>Preity</td>\n      <td>22092032</td>\n      <td>Patna</td>\n    </tr>\n  </tbody>\n</table>\n</div>"
     },
     "execution_count": 10,
     "metadata": {},
     "output_type": "execute_result"
    }
   ],
   "source": [
    "df.tail(2)"
   ]
  },
  {
   "cell_type": "code",
   "execution_count": 11,
   "id": "f2809d46",
   "metadata": {
    "pycharm": {
     "name": "#%%\n"
    }
   },
   "outputs": [
    {
     "data": {
      "text/plain": "           Roll_No.\ncount  4.000000e+00\nmean   2.208453e+07\nstd    5.001667e+03\nmin    2.208203e+07\n25%    2.208203e+07\n50%    2.208203e+07\n75%    2.208453e+07\nmax    2.209203e+07",
      "text/html": "<div>\n<style scoped>\n    .dataframe tbody tr th:only-of-type {\n        vertical-align: middle;\n    }\n\n    .dataframe tbody tr th {\n        vertical-align: top;\n    }\n\n    .dataframe thead th {\n        text-align: right;\n    }\n</style>\n<table border=\"1\" class=\"dataframe\">\n  <thead>\n    <tr style=\"text-align: right;\">\n      <th></th>\n      <th>Roll_No.</th>\n    </tr>\n  </thead>\n  <tbody>\n    <tr>\n      <th>count</th>\n      <td>4.000000e+00</td>\n    </tr>\n    <tr>\n      <th>mean</th>\n      <td>2.208453e+07</td>\n    </tr>\n    <tr>\n      <th>std</th>\n      <td>5.001667e+03</td>\n    </tr>\n    <tr>\n      <th>min</th>\n      <td>2.208203e+07</td>\n    </tr>\n    <tr>\n      <th>25%</th>\n      <td>2.208203e+07</td>\n    </tr>\n    <tr>\n      <th>50%</th>\n      <td>2.208203e+07</td>\n    </tr>\n    <tr>\n      <th>75%</th>\n      <td>2.208453e+07</td>\n    </tr>\n    <tr>\n      <th>max</th>\n      <td>2.209203e+07</td>\n    </tr>\n  </tbody>\n</table>\n</div>"
     },
     "execution_count": 11,
     "metadata": {},
     "output_type": "execute_result"
    }
   ],
   "source": [
    "df.describe()"
   ]
  },
  {
   "cell_type": "code",
   "execution_count": 12,
   "id": "22717208",
   "metadata": {
    "pycharm": {
     "name": "#%%\n"
    }
   },
   "outputs": [
    {
     "data": {
      "text/plain": "     Name  Roll_No.    City\n0  Ashish  22082028  Morena\n1  Sameer  22082027  Bhopal\n2  Rajesh  22082031   Patna\n3  Preity  22092032   Patna",
      "text/html": "<div>\n<style scoped>\n    .dataframe tbody tr th:only-of-type {\n        vertical-align: middle;\n    }\n\n    .dataframe tbody tr th {\n        vertical-align: top;\n    }\n\n    .dataframe thead th {\n        text-align: right;\n    }\n</style>\n<table border=\"1\" class=\"dataframe\">\n  <thead>\n    <tr style=\"text-align: right;\">\n      <th></th>\n      <th>Name</th>\n      <th>Roll_No.</th>\n      <th>City</th>\n    </tr>\n  </thead>\n  <tbody>\n    <tr>\n      <th>0</th>\n      <td>Ashish</td>\n      <td>22082028</td>\n      <td>Morena</td>\n    </tr>\n    <tr>\n      <th>1</th>\n      <td>Sameer</td>\n      <td>22082027</td>\n      <td>Bhopal</td>\n    </tr>\n    <tr>\n      <th>2</th>\n      <td>Rajesh</td>\n      <td>22082031</td>\n      <td>Patna</td>\n    </tr>\n    <tr>\n      <th>3</th>\n      <td>Preity</td>\n      <td>22092032</td>\n      <td>Patna</td>\n    </tr>\n  </tbody>\n</table>\n</div>"
     },
     "execution_count": 12,
     "metadata": {},
     "output_type": "execute_result"
    }
   ],
   "source": [
    "df"
   ]
  },
  {
   "cell_type": "code",
   "execution_count": 13,
   "id": "9e97f4c3",
   "metadata": {
    "pycharm": {
     "name": "#%%\n"
    }
   },
   "outputs": [
    {
     "data": {
      "text/plain": "0    Ashish\n1    Sameer\n2    Rajesh\n3    Preity\nName: Name, dtype: object"
     },
     "execution_count": 13,
     "metadata": {},
     "output_type": "execute_result"
    }
   ],
   "source": [
    "df[\"Name\"]"
   ]
  },
  {
   "cell_type": "code",
   "execution_count": 14,
   "id": "dc46f468",
   "metadata": {
    "pycharm": {
     "name": "#%%\n"
    }
   },
   "outputs": [
    {
     "data": {
      "text/plain": "0    22082028\n1    22082027\n2    22082031\n3    22092032\nName: Roll_No., dtype: int64"
     },
     "execution_count": 14,
     "metadata": {},
     "output_type": "execute_result"
    }
   ],
   "source": [
    "df[\"Roll_No.\"]"
   ]
  },
  {
   "cell_type": "code",
   "execution_count": 15,
   "id": "700bdf18",
   "metadata": {
    "pycharm": {
     "name": "#%%\n"
    }
   },
   "outputs": [
    {
     "name": "stderr",
     "output_type": "stream",
     "text": [
      "C:\\Users\\Rajesh K Uchadiya\\AppData\\Local\\Temp\\ipykernel_11724\\129766674.py:1: SettingWithCopyWarning: \n",
      "A value is trying to be set on a copy of a slice from a DataFrame\n",
      "\n",
      "See the caveats in the documentation: https://pandas.pydata.org/pandas-docs/stable/user_guide/indexing.html#returning-a-view-versus-a-copy\n",
      "  df[\"Name\"][3] = \"Preity Mishra\"\n"
     ]
    }
   ],
   "source": [
    "df[\"Name\"][3] = \"Preity Mishra\""
   ]
  },
  {
   "cell_type": "code",
   "execution_count": 16,
   "id": "a93df705",
   "metadata": {
    "pycharm": {
     "name": "#%%\n"
    }
   },
   "outputs": [
    {
     "data": {
      "text/plain": "            Name  Roll_No.    City\n0         Ashish  22082028  Morena\n1         Sameer  22082027  Bhopal\n2         Rajesh  22082031   Patna\n3  Preity Mishra  22092032   Patna",
      "text/html": "<div>\n<style scoped>\n    .dataframe tbody tr th:only-of-type {\n        vertical-align: middle;\n    }\n\n    .dataframe tbody tr th {\n        vertical-align: top;\n    }\n\n    .dataframe thead th {\n        text-align: right;\n    }\n</style>\n<table border=\"1\" class=\"dataframe\">\n  <thead>\n    <tr style=\"text-align: right;\">\n      <th></th>\n      <th>Name</th>\n      <th>Roll_No.</th>\n      <th>City</th>\n    </tr>\n  </thead>\n  <tbody>\n    <tr>\n      <th>0</th>\n      <td>Ashish</td>\n      <td>22082028</td>\n      <td>Morena</td>\n    </tr>\n    <tr>\n      <th>1</th>\n      <td>Sameer</td>\n      <td>22082027</td>\n      <td>Bhopal</td>\n    </tr>\n    <tr>\n      <th>2</th>\n      <td>Rajesh</td>\n      <td>22082031</td>\n      <td>Patna</td>\n    </tr>\n    <tr>\n      <th>3</th>\n      <td>Preity Mishra</td>\n      <td>22092032</td>\n      <td>Patna</td>\n    </tr>\n  </tbody>\n</table>\n</div>"
     },
     "execution_count": 16,
     "metadata": {},
     "output_type": "execute_result"
    }
   ],
   "source": [
    "df"
   ]
  },
  {
   "cell_type": "code",
   "execution_count": 17,
   "id": "20b3881b",
   "metadata": {
    "pycharm": {
     "name": "#%%\n"
    }
   },
   "outputs": [
    {
     "name": "stderr",
     "output_type": "stream",
     "text": [
      "C:\\Users\\Rajesh K Uchadiya\\AppData\\Local\\Temp\\ipykernel_11724\\95644658.py:1: SettingWithCopyWarning: \n",
      "A value is trying to be set on a copy of a slice from a DataFrame\n",
      "\n",
      "See the caveats in the documentation: https://pandas.pydata.org/pandas-docs/stable/user_guide/indexing.html#returning-a-view-versus-a-copy\n",
      "  df[\"Name\"][3] = \"Preity\"\n"
     ]
    }
   ],
   "source": [
    "df[\"Name\"][3] = \"Preity\""
   ]
  },
  {
   "cell_type": "code",
   "execution_count": 18,
   "id": "10cd3cdb",
   "metadata": {
    "pycharm": {
     "name": "#%%\n"
    }
   },
   "outputs": [
    {
     "data": {
      "text/plain": "     Name  Roll_No.    City\n0  Ashish  22082028  Morena\n1  Sameer  22082027  Bhopal\n2  Rajesh  22082031   Patna\n3  Preity  22092032   Patna",
      "text/html": "<div>\n<style scoped>\n    .dataframe tbody tr th:only-of-type {\n        vertical-align: middle;\n    }\n\n    .dataframe tbody tr th {\n        vertical-align: top;\n    }\n\n    .dataframe thead th {\n        text-align: right;\n    }\n</style>\n<table border=\"1\" class=\"dataframe\">\n  <thead>\n    <tr style=\"text-align: right;\">\n      <th></th>\n      <th>Name</th>\n      <th>Roll_No.</th>\n      <th>City</th>\n    </tr>\n  </thead>\n  <tbody>\n    <tr>\n      <th>0</th>\n      <td>Ashish</td>\n      <td>22082028</td>\n      <td>Morena</td>\n    </tr>\n    <tr>\n      <th>1</th>\n      <td>Sameer</td>\n      <td>22082027</td>\n      <td>Bhopal</td>\n    </tr>\n    <tr>\n      <th>2</th>\n      <td>Rajesh</td>\n      <td>22082031</td>\n      <td>Patna</td>\n    </tr>\n    <tr>\n      <th>3</th>\n      <td>Preity</td>\n      <td>22092032</td>\n      <td>Patna</td>\n    </tr>\n  </tbody>\n</table>\n</div>"
     },
     "execution_count": 18,
     "metadata": {},
     "output_type": "execute_result"
    }
   ],
   "source": [
    "df"
   ]
  },
  {
   "cell_type": "code",
   "execution_count": 19,
   "id": "15e6a2a8",
   "metadata": {
    "pycharm": {
     "name": "#%%\n"
    }
   },
   "outputs": [],
   "source": [
    "df.index = ['1','2','3','4']"
   ]
  },
  {
   "cell_type": "code",
   "execution_count": 20,
   "id": "b0b5028a",
   "metadata": {
    "pycharm": {
     "name": "#%%\n"
    }
   },
   "outputs": [
    {
     "data": {
      "text/plain": "     Name  Roll_No.    City\n1  Ashish  22082028  Morena\n2  Sameer  22082027  Bhopal\n3  Rajesh  22082031   Patna\n4  Preity  22092032   Patna",
      "text/html": "<div>\n<style scoped>\n    .dataframe tbody tr th:only-of-type {\n        vertical-align: middle;\n    }\n\n    .dataframe tbody tr th {\n        vertical-align: top;\n    }\n\n    .dataframe thead th {\n        text-align: right;\n    }\n</style>\n<table border=\"1\" class=\"dataframe\">\n  <thead>\n    <tr style=\"text-align: right;\">\n      <th></th>\n      <th>Name</th>\n      <th>Roll_No.</th>\n      <th>City</th>\n    </tr>\n  </thead>\n  <tbody>\n    <tr>\n      <th>1</th>\n      <td>Ashish</td>\n      <td>22082028</td>\n      <td>Morena</td>\n    </tr>\n    <tr>\n      <th>2</th>\n      <td>Sameer</td>\n      <td>22082027</td>\n      <td>Bhopal</td>\n    </tr>\n    <tr>\n      <th>3</th>\n      <td>Rajesh</td>\n      <td>22082031</td>\n      <td>Patna</td>\n    </tr>\n    <tr>\n      <th>4</th>\n      <td>Preity</td>\n      <td>22092032</td>\n      <td>Patna</td>\n    </tr>\n  </tbody>\n</table>\n</div>"
     },
     "execution_count": 20,
     "metadata": {},
     "output_type": "execute_result"
    }
   ],
   "source": [
    "df"
   ]
  },
  {
   "cell_type": "code",
   "execution_count": 21,
   "id": "9e6172bd",
   "metadata": {
    "pycharm": {
     "name": "#%%\n"
    }
   },
   "outputs": [],
   "source": [
    "newdf = pd.DataFrame(np.random.rand(334,5), index=np.arange(334))"
   ]
  },
  {
   "cell_type": "code",
   "execution_count": 22,
   "id": "057272bd",
   "metadata": {
    "pycharm": {
     "name": "#%%\n"
    }
   },
   "outputs": [
    {
     "data": {
      "text/plain": "            0         1         2         3         4\n0    0.148201  0.117928  0.788403  0.885271  0.292030\n1    0.303767  0.873540  0.863133  0.131168  0.385390\n2    0.808746  0.157618  0.220153  0.635851  0.751146\n3    0.860344  0.899856  0.213996  0.774135  0.914150\n4    0.079452  0.316646  0.724304  0.937449  0.706278\n..        ...       ...       ...       ...       ...\n329  0.553746  0.386381  0.499074  0.843573  0.946705\n330  0.380056  0.983924  0.627664  0.981230  0.166442\n331  0.335835  0.390459  0.686720  0.030222  0.881853\n332  0.056425  0.021443  0.766047  0.539329  0.291349\n333  0.816640  0.650784  0.805392  0.111066  0.570964\n\n[334 rows x 5 columns]",
      "text/html": "<div>\n<style scoped>\n    .dataframe tbody tr th:only-of-type {\n        vertical-align: middle;\n    }\n\n    .dataframe tbody tr th {\n        vertical-align: top;\n    }\n\n    .dataframe thead th {\n        text-align: right;\n    }\n</style>\n<table border=\"1\" class=\"dataframe\">\n  <thead>\n    <tr style=\"text-align: right;\">\n      <th></th>\n      <th>0</th>\n      <th>1</th>\n      <th>2</th>\n      <th>3</th>\n      <th>4</th>\n    </tr>\n  </thead>\n  <tbody>\n    <tr>\n      <th>0</th>\n      <td>0.148201</td>\n      <td>0.117928</td>\n      <td>0.788403</td>\n      <td>0.885271</td>\n      <td>0.292030</td>\n    </tr>\n    <tr>\n      <th>1</th>\n      <td>0.303767</td>\n      <td>0.873540</td>\n      <td>0.863133</td>\n      <td>0.131168</td>\n      <td>0.385390</td>\n    </tr>\n    <tr>\n      <th>2</th>\n      <td>0.808746</td>\n      <td>0.157618</td>\n      <td>0.220153</td>\n      <td>0.635851</td>\n      <td>0.751146</td>\n    </tr>\n    <tr>\n      <th>3</th>\n      <td>0.860344</td>\n      <td>0.899856</td>\n      <td>0.213996</td>\n      <td>0.774135</td>\n      <td>0.914150</td>\n    </tr>\n    <tr>\n      <th>4</th>\n      <td>0.079452</td>\n      <td>0.316646</td>\n      <td>0.724304</td>\n      <td>0.937449</td>\n      <td>0.706278</td>\n    </tr>\n    <tr>\n      <th>...</th>\n      <td>...</td>\n      <td>...</td>\n      <td>...</td>\n      <td>...</td>\n      <td>...</td>\n    </tr>\n    <tr>\n      <th>329</th>\n      <td>0.553746</td>\n      <td>0.386381</td>\n      <td>0.499074</td>\n      <td>0.843573</td>\n      <td>0.946705</td>\n    </tr>\n    <tr>\n      <th>330</th>\n      <td>0.380056</td>\n      <td>0.983924</td>\n      <td>0.627664</td>\n      <td>0.981230</td>\n      <td>0.166442</td>\n    </tr>\n    <tr>\n      <th>331</th>\n      <td>0.335835</td>\n      <td>0.390459</td>\n      <td>0.686720</td>\n      <td>0.030222</td>\n      <td>0.881853</td>\n    </tr>\n    <tr>\n      <th>332</th>\n      <td>0.056425</td>\n      <td>0.021443</td>\n      <td>0.766047</td>\n      <td>0.539329</td>\n      <td>0.291349</td>\n    </tr>\n    <tr>\n      <th>333</th>\n      <td>0.816640</td>\n      <td>0.650784</td>\n      <td>0.805392</td>\n      <td>0.111066</td>\n      <td>0.570964</td>\n    </tr>\n  </tbody>\n</table>\n<p>334 rows × 5 columns</p>\n</div>"
     },
     "execution_count": 22,
     "metadata": {},
     "output_type": "execute_result"
    }
   ],
   "source": [
    "newdf"
   ]
  },
  {
   "cell_type": "code",
   "execution_count": 23,
   "id": "88411405",
   "metadata": {
    "pycharm": {
     "name": "#%%\n"
    }
   },
   "outputs": [
    {
     "data": {
      "text/plain": "pandas.core.frame.DataFrame"
     },
     "execution_count": 23,
     "metadata": {},
     "output_type": "execute_result"
    }
   ],
   "source": [
    "type(newdf)"
   ]
  },
  {
   "cell_type": "code",
   "execution_count": 24,
   "id": "d28769e7",
   "metadata": {
    "pycharm": {
     "name": "#%%\n"
    }
   },
   "outputs": [
    {
     "data": {
      "text/plain": "                0           1           2           3           4\ncount  334.000000  334.000000  334.000000  334.000000  334.000000\nmean     0.498675    0.499540    0.516998    0.507964    0.467477\nstd      0.290515    0.297565    0.287734    0.284889    0.278261\nmin      0.000502    0.001418    0.001062    0.000140    0.001378\n25%      0.232181    0.251680    0.286643    0.258242    0.232761\n50%      0.499691    0.471869    0.517468    0.529131    0.460542\n75%      0.751015    0.768234    0.780144    0.743861    0.671284\nmax      0.999634    0.994633    0.989461    0.996074    0.998213",
      "text/html": "<div>\n<style scoped>\n    .dataframe tbody tr th:only-of-type {\n        vertical-align: middle;\n    }\n\n    .dataframe tbody tr th {\n        vertical-align: top;\n    }\n\n    .dataframe thead th {\n        text-align: right;\n    }\n</style>\n<table border=\"1\" class=\"dataframe\">\n  <thead>\n    <tr style=\"text-align: right;\">\n      <th></th>\n      <th>0</th>\n      <th>1</th>\n      <th>2</th>\n      <th>3</th>\n      <th>4</th>\n    </tr>\n  </thead>\n  <tbody>\n    <tr>\n      <th>count</th>\n      <td>334.000000</td>\n      <td>334.000000</td>\n      <td>334.000000</td>\n      <td>334.000000</td>\n      <td>334.000000</td>\n    </tr>\n    <tr>\n      <th>mean</th>\n      <td>0.498675</td>\n      <td>0.499540</td>\n      <td>0.516998</td>\n      <td>0.507964</td>\n      <td>0.467477</td>\n    </tr>\n    <tr>\n      <th>std</th>\n      <td>0.290515</td>\n      <td>0.297565</td>\n      <td>0.287734</td>\n      <td>0.284889</td>\n      <td>0.278261</td>\n    </tr>\n    <tr>\n      <th>min</th>\n      <td>0.000502</td>\n      <td>0.001418</td>\n      <td>0.001062</td>\n      <td>0.000140</td>\n      <td>0.001378</td>\n    </tr>\n    <tr>\n      <th>25%</th>\n      <td>0.232181</td>\n      <td>0.251680</td>\n      <td>0.286643</td>\n      <td>0.258242</td>\n      <td>0.232761</td>\n    </tr>\n    <tr>\n      <th>50%</th>\n      <td>0.499691</td>\n      <td>0.471869</td>\n      <td>0.517468</td>\n      <td>0.529131</td>\n      <td>0.460542</td>\n    </tr>\n    <tr>\n      <th>75%</th>\n      <td>0.751015</td>\n      <td>0.768234</td>\n      <td>0.780144</td>\n      <td>0.743861</td>\n      <td>0.671284</td>\n    </tr>\n    <tr>\n      <th>max</th>\n      <td>0.999634</td>\n      <td>0.994633</td>\n      <td>0.989461</td>\n      <td>0.996074</td>\n      <td>0.998213</td>\n    </tr>\n  </tbody>\n</table>\n</div>"
     },
     "execution_count": 24,
     "metadata": {},
     "output_type": "execute_result"
    }
   ],
   "source": [
    "newdf.describe()"
   ]
  },
  {
   "cell_type": "code",
   "execution_count": 25,
   "id": "9edef1c6",
   "metadata": {
    "pycharm": {
     "name": "#%%\n"
    }
   },
   "outputs": [
    {
     "data": {
      "text/plain": "Int64Index([  0,   1,   2,   3,   4,   5,   6,   7,   8,   9,\n            ...\n            324, 325, 326, 327, 328, 329, 330, 331, 332, 333],\n           dtype='int64', length=334)"
     },
     "execution_count": 25,
     "metadata": {},
     "output_type": "execute_result"
    }
   ],
   "source": [
    "newdf.index"
   ]
  },
  {
   "cell_type": "code",
   "execution_count": 26,
   "id": "3e921f8d",
   "metadata": {
    "pycharm": {
     "name": "#%%\n"
    }
   },
   "outputs": [
    {
     "data": {
      "text/plain": "RangeIndex(start=0, stop=5, step=1)"
     },
     "execution_count": 26,
     "metadata": {},
     "output_type": "execute_result"
    }
   ],
   "source": [
    "newdf.columns"
   ]
  },
  {
   "cell_type": "code",
   "execution_count": 27,
   "id": "ad2ed53f",
   "metadata": {
    "pycharm": {
     "name": "#%%\n"
    }
   },
   "outputs": [
    {
     "data": {
      "text/plain": "array([[0.14820142, 0.11792805, 0.78840338, 0.88527148, 0.29203047],\n       [0.30376673, 0.87353994, 0.8631334 , 0.13116823, 0.3853897 ],\n       [0.8087458 , 0.15761755, 0.22015292, 0.63585132, 0.75114586],\n       ...,\n       [0.33583516, 0.39045859, 0.68672046, 0.03022218, 0.88185303],\n       [0.05642465, 0.02144297, 0.76604745, 0.53932862, 0.29134935],\n       [0.81663959, 0.65078359, 0.80539203, 0.11106632, 0.57096355]])"
     },
     "execution_count": 27,
     "metadata": {},
     "output_type": "execute_result"
    }
   ],
   "source": [
    "newdf.to_numpy()"
   ]
  },
  {
   "cell_type": "code",
   "execution_count": 28,
   "id": "d6d6472b",
   "metadata": {
    "pycharm": {
     "name": "#%%\n"
    }
   },
   "outputs": [
    {
     "data": {
      "text/plain": "            0         1         2         3         4\n0    0.148201  0.117928  0.788403  0.885271  0.292030\n1    0.303767  0.873540  0.863133  0.131168  0.385390\n2    0.808746  0.157618  0.220153  0.635851  0.751146\n3    0.860344  0.899856  0.213996  0.774135  0.914150\n4    0.079452  0.316646  0.724304  0.937449  0.706278\n..        ...       ...       ...       ...       ...\n329  0.553746  0.386381  0.499074  0.843573  0.946705\n330  0.380056  0.983924  0.627664  0.981230  0.166442\n331  0.335835  0.390459  0.686720  0.030222  0.881853\n332  0.056425  0.021443  0.766047  0.539329  0.291349\n333  0.816640  0.650784  0.805392  0.111066  0.570964\n\n[334 rows x 5 columns]",
      "text/html": "<div>\n<style scoped>\n    .dataframe tbody tr th:only-of-type {\n        vertical-align: middle;\n    }\n\n    .dataframe tbody tr th {\n        vertical-align: top;\n    }\n\n    .dataframe thead th {\n        text-align: right;\n    }\n</style>\n<table border=\"1\" class=\"dataframe\">\n  <thead>\n    <tr style=\"text-align: right;\">\n      <th></th>\n      <th>0</th>\n      <th>1</th>\n      <th>2</th>\n      <th>3</th>\n      <th>4</th>\n    </tr>\n  </thead>\n  <tbody>\n    <tr>\n      <th>0</th>\n      <td>0.148201</td>\n      <td>0.117928</td>\n      <td>0.788403</td>\n      <td>0.885271</td>\n      <td>0.292030</td>\n    </tr>\n    <tr>\n      <th>1</th>\n      <td>0.303767</td>\n      <td>0.873540</td>\n      <td>0.863133</td>\n      <td>0.131168</td>\n      <td>0.385390</td>\n    </tr>\n    <tr>\n      <th>2</th>\n      <td>0.808746</td>\n      <td>0.157618</td>\n      <td>0.220153</td>\n      <td>0.635851</td>\n      <td>0.751146</td>\n    </tr>\n    <tr>\n      <th>3</th>\n      <td>0.860344</td>\n      <td>0.899856</td>\n      <td>0.213996</td>\n      <td>0.774135</td>\n      <td>0.914150</td>\n    </tr>\n    <tr>\n      <th>4</th>\n      <td>0.079452</td>\n      <td>0.316646</td>\n      <td>0.724304</td>\n      <td>0.937449</td>\n      <td>0.706278</td>\n    </tr>\n    <tr>\n      <th>...</th>\n      <td>...</td>\n      <td>...</td>\n      <td>...</td>\n      <td>...</td>\n      <td>...</td>\n    </tr>\n    <tr>\n      <th>329</th>\n      <td>0.553746</td>\n      <td>0.386381</td>\n      <td>0.499074</td>\n      <td>0.843573</td>\n      <td>0.946705</td>\n    </tr>\n    <tr>\n      <th>330</th>\n      <td>0.380056</td>\n      <td>0.983924</td>\n      <td>0.627664</td>\n      <td>0.981230</td>\n      <td>0.166442</td>\n    </tr>\n    <tr>\n      <th>331</th>\n      <td>0.335835</td>\n      <td>0.390459</td>\n      <td>0.686720</td>\n      <td>0.030222</td>\n      <td>0.881853</td>\n    </tr>\n    <tr>\n      <th>332</th>\n      <td>0.056425</td>\n      <td>0.021443</td>\n      <td>0.766047</td>\n      <td>0.539329</td>\n      <td>0.291349</td>\n    </tr>\n    <tr>\n      <th>333</th>\n      <td>0.816640</td>\n      <td>0.650784</td>\n      <td>0.805392</td>\n      <td>0.111066</td>\n      <td>0.570964</td>\n    </tr>\n  </tbody>\n</table>\n<p>334 rows × 5 columns</p>\n</div>"
     },
     "execution_count": 28,
     "metadata": {},
     "output_type": "execute_result"
    }
   ],
   "source": [
    "newdf"
   ]
  },
  {
   "cell_type": "code",
   "execution_count": 29,
   "id": "d5cfb6c0",
   "metadata": {
    "pycharm": {
     "name": "#%%\n"
    }
   },
   "outputs": [
    {
     "data": {
      "text/plain": "        0         1         2         3         4         5         6    \\\n0  0.148201  0.303767  0.808746  0.860344  0.079452  0.968531  0.882710   \n1  0.117928  0.873540  0.157618  0.899856  0.316646  0.377275  0.506362   \n2  0.788403  0.863133  0.220153  0.213996  0.724304  0.791455  0.734134   \n3  0.885271  0.131168  0.635851  0.774135  0.937449  0.156192  0.588661   \n4  0.292030  0.385390  0.751146  0.914150  0.706278  0.221371  0.624774   \n\n        7         8         9    ...       324       325       326       327  \\\n0  0.362434  0.548223  0.444360  ...  0.393278  0.081777  0.256536  0.064242   \n1  0.447269  0.993518  0.551833  ...  0.522499  0.075290  0.463512  0.530123   \n2  0.136345  0.704874  0.056379  ...  0.154684  0.145440  0.336636  0.477468   \n3  0.811374  0.539432  0.244326  ...  0.840433  0.539924  0.514567  0.831398   \n4  0.620993  0.879823  0.317694  ...  0.437875  0.522838  0.736285  0.415619   \n\n        328       329       330       331       332       333  \n0  0.262854  0.553746  0.380056  0.335835  0.056425  0.816640  \n1  0.662070  0.386381  0.983924  0.390459  0.021443  0.650784  \n2  0.934375  0.499074  0.627664  0.686720  0.766047  0.805392  \n3  0.655363  0.843573  0.981230  0.030222  0.539329  0.111066  \n4  0.313243  0.946705  0.166442  0.881853  0.291349  0.570964  \n\n[5 rows x 334 columns]",
      "text/html": "<div>\n<style scoped>\n    .dataframe tbody tr th:only-of-type {\n        vertical-align: middle;\n    }\n\n    .dataframe tbody tr th {\n        vertical-align: top;\n    }\n\n    .dataframe thead th {\n        text-align: right;\n    }\n</style>\n<table border=\"1\" class=\"dataframe\">\n  <thead>\n    <tr style=\"text-align: right;\">\n      <th></th>\n      <th>0</th>\n      <th>1</th>\n      <th>2</th>\n      <th>3</th>\n      <th>4</th>\n      <th>5</th>\n      <th>6</th>\n      <th>7</th>\n      <th>8</th>\n      <th>9</th>\n      <th>...</th>\n      <th>324</th>\n      <th>325</th>\n      <th>326</th>\n      <th>327</th>\n      <th>328</th>\n      <th>329</th>\n      <th>330</th>\n      <th>331</th>\n      <th>332</th>\n      <th>333</th>\n    </tr>\n  </thead>\n  <tbody>\n    <tr>\n      <th>0</th>\n      <td>0.148201</td>\n      <td>0.303767</td>\n      <td>0.808746</td>\n      <td>0.860344</td>\n      <td>0.079452</td>\n      <td>0.968531</td>\n      <td>0.882710</td>\n      <td>0.362434</td>\n      <td>0.548223</td>\n      <td>0.444360</td>\n      <td>...</td>\n      <td>0.393278</td>\n      <td>0.081777</td>\n      <td>0.256536</td>\n      <td>0.064242</td>\n      <td>0.262854</td>\n      <td>0.553746</td>\n      <td>0.380056</td>\n      <td>0.335835</td>\n      <td>0.056425</td>\n      <td>0.816640</td>\n    </tr>\n    <tr>\n      <th>1</th>\n      <td>0.117928</td>\n      <td>0.873540</td>\n      <td>0.157618</td>\n      <td>0.899856</td>\n      <td>0.316646</td>\n      <td>0.377275</td>\n      <td>0.506362</td>\n      <td>0.447269</td>\n      <td>0.993518</td>\n      <td>0.551833</td>\n      <td>...</td>\n      <td>0.522499</td>\n      <td>0.075290</td>\n      <td>0.463512</td>\n      <td>0.530123</td>\n      <td>0.662070</td>\n      <td>0.386381</td>\n      <td>0.983924</td>\n      <td>0.390459</td>\n      <td>0.021443</td>\n      <td>0.650784</td>\n    </tr>\n    <tr>\n      <th>2</th>\n      <td>0.788403</td>\n      <td>0.863133</td>\n      <td>0.220153</td>\n      <td>0.213996</td>\n      <td>0.724304</td>\n      <td>0.791455</td>\n      <td>0.734134</td>\n      <td>0.136345</td>\n      <td>0.704874</td>\n      <td>0.056379</td>\n      <td>...</td>\n      <td>0.154684</td>\n      <td>0.145440</td>\n      <td>0.336636</td>\n      <td>0.477468</td>\n      <td>0.934375</td>\n      <td>0.499074</td>\n      <td>0.627664</td>\n      <td>0.686720</td>\n      <td>0.766047</td>\n      <td>0.805392</td>\n    </tr>\n    <tr>\n      <th>3</th>\n      <td>0.885271</td>\n      <td>0.131168</td>\n      <td>0.635851</td>\n      <td>0.774135</td>\n      <td>0.937449</td>\n      <td>0.156192</td>\n      <td>0.588661</td>\n      <td>0.811374</td>\n      <td>0.539432</td>\n      <td>0.244326</td>\n      <td>...</td>\n      <td>0.840433</td>\n      <td>0.539924</td>\n      <td>0.514567</td>\n      <td>0.831398</td>\n      <td>0.655363</td>\n      <td>0.843573</td>\n      <td>0.981230</td>\n      <td>0.030222</td>\n      <td>0.539329</td>\n      <td>0.111066</td>\n    </tr>\n    <tr>\n      <th>4</th>\n      <td>0.292030</td>\n      <td>0.385390</td>\n      <td>0.751146</td>\n      <td>0.914150</td>\n      <td>0.706278</td>\n      <td>0.221371</td>\n      <td>0.624774</td>\n      <td>0.620993</td>\n      <td>0.879823</td>\n      <td>0.317694</td>\n      <td>...</td>\n      <td>0.437875</td>\n      <td>0.522838</td>\n      <td>0.736285</td>\n      <td>0.415619</td>\n      <td>0.313243</td>\n      <td>0.946705</td>\n      <td>0.166442</td>\n      <td>0.881853</td>\n      <td>0.291349</td>\n      <td>0.570964</td>\n    </tr>\n  </tbody>\n</table>\n<p>5 rows × 334 columns</p>\n</div>"
     },
     "execution_count": 29,
     "metadata": {},
     "output_type": "execute_result"
    }
   ],
   "source": [
    "newdf.T"
   ]
  },
  {
   "cell_type": "code",
   "execution_count": 30,
   "id": "75346b6f",
   "metadata": {
    "pycharm": {
     "name": "#%%\n"
    }
   },
   "outputs": [
    {
     "data": {
      "text/plain": "            0         1         2         3         4\n0    0.148201  0.117928  0.788403  0.885271  0.292030\n1    0.303767  0.873540  0.863133  0.131168  0.385390\n2    0.808746  0.157618  0.220153  0.635851  0.751146\n3    0.860344  0.899856  0.213996  0.774135  0.914150\n4    0.079452  0.316646  0.724304  0.937449  0.706278\n..        ...       ...       ...       ...       ...\n329  0.553746  0.386381  0.499074  0.843573  0.946705\n330  0.380056  0.983924  0.627664  0.981230  0.166442\n331  0.335835  0.390459  0.686720  0.030222  0.881853\n332  0.056425  0.021443  0.766047  0.539329  0.291349\n333  0.816640  0.650784  0.805392  0.111066  0.570964\n\n[334 rows x 5 columns]",
      "text/html": "<div>\n<style scoped>\n    .dataframe tbody tr th:only-of-type {\n        vertical-align: middle;\n    }\n\n    .dataframe tbody tr th {\n        vertical-align: top;\n    }\n\n    .dataframe thead th {\n        text-align: right;\n    }\n</style>\n<table border=\"1\" class=\"dataframe\">\n  <thead>\n    <tr style=\"text-align: right;\">\n      <th></th>\n      <th>0</th>\n      <th>1</th>\n      <th>2</th>\n      <th>3</th>\n      <th>4</th>\n    </tr>\n  </thead>\n  <tbody>\n    <tr>\n      <th>0</th>\n      <td>0.148201</td>\n      <td>0.117928</td>\n      <td>0.788403</td>\n      <td>0.885271</td>\n      <td>0.292030</td>\n    </tr>\n    <tr>\n      <th>1</th>\n      <td>0.303767</td>\n      <td>0.873540</td>\n      <td>0.863133</td>\n      <td>0.131168</td>\n      <td>0.385390</td>\n    </tr>\n    <tr>\n      <th>2</th>\n      <td>0.808746</td>\n      <td>0.157618</td>\n      <td>0.220153</td>\n      <td>0.635851</td>\n      <td>0.751146</td>\n    </tr>\n    <tr>\n      <th>3</th>\n      <td>0.860344</td>\n      <td>0.899856</td>\n      <td>0.213996</td>\n      <td>0.774135</td>\n      <td>0.914150</td>\n    </tr>\n    <tr>\n      <th>4</th>\n      <td>0.079452</td>\n      <td>0.316646</td>\n      <td>0.724304</td>\n      <td>0.937449</td>\n      <td>0.706278</td>\n    </tr>\n    <tr>\n      <th>...</th>\n      <td>...</td>\n      <td>...</td>\n      <td>...</td>\n      <td>...</td>\n      <td>...</td>\n    </tr>\n    <tr>\n      <th>329</th>\n      <td>0.553746</td>\n      <td>0.386381</td>\n      <td>0.499074</td>\n      <td>0.843573</td>\n      <td>0.946705</td>\n    </tr>\n    <tr>\n      <th>330</th>\n      <td>0.380056</td>\n      <td>0.983924</td>\n      <td>0.627664</td>\n      <td>0.981230</td>\n      <td>0.166442</td>\n    </tr>\n    <tr>\n      <th>331</th>\n      <td>0.335835</td>\n      <td>0.390459</td>\n      <td>0.686720</td>\n      <td>0.030222</td>\n      <td>0.881853</td>\n    </tr>\n    <tr>\n      <th>332</th>\n      <td>0.056425</td>\n      <td>0.021443</td>\n      <td>0.766047</td>\n      <td>0.539329</td>\n      <td>0.291349</td>\n    </tr>\n    <tr>\n      <th>333</th>\n      <td>0.816640</td>\n      <td>0.650784</td>\n      <td>0.805392</td>\n      <td>0.111066</td>\n      <td>0.570964</td>\n    </tr>\n  </tbody>\n</table>\n<p>334 rows × 5 columns</p>\n</div>"
     },
     "execution_count": 30,
     "metadata": {},
     "output_type": "execute_result"
    }
   ],
   "source": [
    "newdf"
   ]
  },
  {
   "cell_type": "code",
   "execution_count": 31,
   "id": "4b0fecf1",
   "metadata": {
    "pycharm": {
     "name": "#%%\n"
    }
   },
   "outputs": [],
   "source": [
    "newdf.to_csv(\"random.csv\")"
   ]
  },
  {
   "cell_type": "code",
   "execution_count": 32,
   "id": "b1abe5aa",
   "metadata": {
    "pycharm": {
     "name": "#%%\n"
    }
   },
   "outputs": [
    {
     "data": {
      "text/plain": "            0         1         2         3         4\n333  0.816640  0.650784  0.805392  0.111066  0.570964\n332  0.056425  0.021443  0.766047  0.539329  0.291349\n331  0.335835  0.390459  0.686720  0.030222  0.881853\n330  0.380056  0.983924  0.627664  0.981230  0.166442\n329  0.553746  0.386381  0.499074  0.843573  0.946705\n..        ...       ...       ...       ...       ...\n4    0.079452  0.316646  0.724304  0.937449  0.706278\n3    0.860344  0.899856  0.213996  0.774135  0.914150\n2    0.808746  0.157618  0.220153  0.635851  0.751146\n1    0.303767  0.873540  0.863133  0.131168  0.385390\n0    0.148201  0.117928  0.788403  0.885271  0.292030\n\n[334 rows x 5 columns]",
      "text/html": "<div>\n<style scoped>\n    .dataframe tbody tr th:only-of-type {\n        vertical-align: middle;\n    }\n\n    .dataframe tbody tr th {\n        vertical-align: top;\n    }\n\n    .dataframe thead th {\n        text-align: right;\n    }\n</style>\n<table border=\"1\" class=\"dataframe\">\n  <thead>\n    <tr style=\"text-align: right;\">\n      <th></th>\n      <th>0</th>\n      <th>1</th>\n      <th>2</th>\n      <th>3</th>\n      <th>4</th>\n    </tr>\n  </thead>\n  <tbody>\n    <tr>\n      <th>333</th>\n      <td>0.816640</td>\n      <td>0.650784</td>\n      <td>0.805392</td>\n      <td>0.111066</td>\n      <td>0.570964</td>\n    </tr>\n    <tr>\n      <th>332</th>\n      <td>0.056425</td>\n      <td>0.021443</td>\n      <td>0.766047</td>\n      <td>0.539329</td>\n      <td>0.291349</td>\n    </tr>\n    <tr>\n      <th>331</th>\n      <td>0.335835</td>\n      <td>0.390459</td>\n      <td>0.686720</td>\n      <td>0.030222</td>\n      <td>0.881853</td>\n    </tr>\n    <tr>\n      <th>330</th>\n      <td>0.380056</td>\n      <td>0.983924</td>\n      <td>0.627664</td>\n      <td>0.981230</td>\n      <td>0.166442</td>\n    </tr>\n    <tr>\n      <th>329</th>\n      <td>0.553746</td>\n      <td>0.386381</td>\n      <td>0.499074</td>\n      <td>0.843573</td>\n      <td>0.946705</td>\n    </tr>\n    <tr>\n      <th>...</th>\n      <td>...</td>\n      <td>...</td>\n      <td>...</td>\n      <td>...</td>\n      <td>...</td>\n    </tr>\n    <tr>\n      <th>4</th>\n      <td>0.079452</td>\n      <td>0.316646</td>\n      <td>0.724304</td>\n      <td>0.937449</td>\n      <td>0.706278</td>\n    </tr>\n    <tr>\n      <th>3</th>\n      <td>0.860344</td>\n      <td>0.899856</td>\n      <td>0.213996</td>\n      <td>0.774135</td>\n      <td>0.914150</td>\n    </tr>\n    <tr>\n      <th>2</th>\n      <td>0.808746</td>\n      <td>0.157618</td>\n      <td>0.220153</td>\n      <td>0.635851</td>\n      <td>0.751146</td>\n    </tr>\n    <tr>\n      <th>1</th>\n      <td>0.303767</td>\n      <td>0.873540</td>\n      <td>0.863133</td>\n      <td>0.131168</td>\n      <td>0.385390</td>\n    </tr>\n    <tr>\n      <th>0</th>\n      <td>0.148201</td>\n      <td>0.117928</td>\n      <td>0.788403</td>\n      <td>0.885271</td>\n      <td>0.292030</td>\n    </tr>\n  </tbody>\n</table>\n<p>334 rows × 5 columns</p>\n</div>"
     },
     "execution_count": 32,
     "metadata": {},
     "output_type": "execute_result"
    }
   ],
   "source": [
    "newdf.sort_index(axis=0,ascending=False)"
   ]
  },
  {
   "cell_type": "code",
   "execution_count": 33,
   "id": "925bc0e8",
   "metadata": {
    "pycharm": {
     "name": "#%%\n"
    }
   },
   "outputs": [
    {
     "data": {
      "text/plain": "            0         1         2         3         4\n0    0.148201  0.117928  0.788403  0.885271  0.292030\n1    0.303767  0.873540  0.863133  0.131168  0.385390\n2    0.808746  0.157618  0.220153  0.635851  0.751146\n3    0.860344  0.899856  0.213996  0.774135  0.914150\n4    0.079452  0.316646  0.724304  0.937449  0.706278\n..        ...       ...       ...       ...       ...\n329  0.553746  0.386381  0.499074  0.843573  0.946705\n330  0.380056  0.983924  0.627664  0.981230  0.166442\n331  0.335835  0.390459  0.686720  0.030222  0.881853\n332  0.056425  0.021443  0.766047  0.539329  0.291349\n333  0.816640  0.650784  0.805392  0.111066  0.570964\n\n[334 rows x 5 columns]",
      "text/html": "<div>\n<style scoped>\n    .dataframe tbody tr th:only-of-type {\n        vertical-align: middle;\n    }\n\n    .dataframe tbody tr th {\n        vertical-align: top;\n    }\n\n    .dataframe thead th {\n        text-align: right;\n    }\n</style>\n<table border=\"1\" class=\"dataframe\">\n  <thead>\n    <tr style=\"text-align: right;\">\n      <th></th>\n      <th>0</th>\n      <th>1</th>\n      <th>2</th>\n      <th>3</th>\n      <th>4</th>\n    </tr>\n  </thead>\n  <tbody>\n    <tr>\n      <th>0</th>\n      <td>0.148201</td>\n      <td>0.117928</td>\n      <td>0.788403</td>\n      <td>0.885271</td>\n      <td>0.292030</td>\n    </tr>\n    <tr>\n      <th>1</th>\n      <td>0.303767</td>\n      <td>0.873540</td>\n      <td>0.863133</td>\n      <td>0.131168</td>\n      <td>0.385390</td>\n    </tr>\n    <tr>\n      <th>2</th>\n      <td>0.808746</td>\n      <td>0.157618</td>\n      <td>0.220153</td>\n      <td>0.635851</td>\n      <td>0.751146</td>\n    </tr>\n    <tr>\n      <th>3</th>\n      <td>0.860344</td>\n      <td>0.899856</td>\n      <td>0.213996</td>\n      <td>0.774135</td>\n      <td>0.914150</td>\n    </tr>\n    <tr>\n      <th>4</th>\n      <td>0.079452</td>\n      <td>0.316646</td>\n      <td>0.724304</td>\n      <td>0.937449</td>\n      <td>0.706278</td>\n    </tr>\n    <tr>\n      <th>...</th>\n      <td>...</td>\n      <td>...</td>\n      <td>...</td>\n      <td>...</td>\n      <td>...</td>\n    </tr>\n    <tr>\n      <th>329</th>\n      <td>0.553746</td>\n      <td>0.386381</td>\n      <td>0.499074</td>\n      <td>0.843573</td>\n      <td>0.946705</td>\n    </tr>\n    <tr>\n      <th>330</th>\n      <td>0.380056</td>\n      <td>0.983924</td>\n      <td>0.627664</td>\n      <td>0.981230</td>\n      <td>0.166442</td>\n    </tr>\n    <tr>\n      <th>331</th>\n      <td>0.335835</td>\n      <td>0.390459</td>\n      <td>0.686720</td>\n      <td>0.030222</td>\n      <td>0.881853</td>\n    </tr>\n    <tr>\n      <th>332</th>\n      <td>0.056425</td>\n      <td>0.021443</td>\n      <td>0.766047</td>\n      <td>0.539329</td>\n      <td>0.291349</td>\n    </tr>\n    <tr>\n      <th>333</th>\n      <td>0.816640</td>\n      <td>0.650784</td>\n      <td>0.805392</td>\n      <td>0.111066</td>\n      <td>0.570964</td>\n    </tr>\n  </tbody>\n</table>\n<p>334 rows × 5 columns</p>\n</div>"
     },
     "execution_count": 33,
     "metadata": {},
     "output_type": "execute_result"
    }
   ],
   "source": [
    "newdf.sort_index(axis=0)"
   ]
  },
  {
   "cell_type": "code",
   "execution_count": 34,
   "id": "138b00a5",
   "metadata": {
    "pycharm": {
     "name": "#%%\n"
    }
   },
   "outputs": [
    {
     "data": {
      "text/plain": "0      0.148201\n1      0.303767\n2      0.808746\n3      0.860344\n4      0.079452\n         ...   \n329    0.553746\n330    0.380056\n331    0.335835\n332    0.056425\n333    0.816640\nName: 0, Length: 334, dtype: float64"
     },
     "execution_count": 34,
     "metadata": {},
     "output_type": "execute_result"
    }
   ],
   "source": [
    "newdf[0]"
   ]
  },
  {
   "cell_type": "code",
   "execution_count": 35,
   "id": "b029e9c1",
   "metadata": {
    "pycharm": {
     "name": "#%%\n"
    }
   },
   "outputs": [
    {
     "data": {
      "text/plain": "pandas.core.series.Series"
     },
     "execution_count": 35,
     "metadata": {},
     "output_type": "execute_result"
    }
   ],
   "source": [
    "type(newdf[0])"
   ]
  },
  {
   "cell_type": "code",
   "execution_count": 36,
   "id": "10f52b30",
   "metadata": {
    "pycharm": {
     "name": "#%%\n"
    }
   },
   "outputs": [],
   "source": [
    "newdf2 = newdf.copy()"
   ]
  },
  {
   "cell_type": "code",
   "execution_count": 37,
   "id": "f0777945",
   "metadata": {
    "pycharm": {
     "name": "#%%\n"
    }
   },
   "outputs": [
    {
     "data": {
      "text/plain": "            0         1         2         3         4\n0    0.148201  0.117928  0.788403  0.885271  0.292030\n1    0.303767  0.873540  0.863133  0.131168  0.385390\n2    0.808746  0.157618  0.220153  0.635851  0.751146\n3    0.860344  0.899856  0.213996  0.774135  0.914150\n4    0.079452  0.316646  0.724304  0.937449  0.706278\n..        ...       ...       ...       ...       ...\n329  0.553746  0.386381  0.499074  0.843573  0.946705\n330  0.380056  0.983924  0.627664  0.981230  0.166442\n331  0.335835  0.390459  0.686720  0.030222  0.881853\n332  0.056425  0.021443  0.766047  0.539329  0.291349\n333  0.816640  0.650784  0.805392  0.111066  0.570964\n\n[334 rows x 5 columns]",
      "text/html": "<div>\n<style scoped>\n    .dataframe tbody tr th:only-of-type {\n        vertical-align: middle;\n    }\n\n    .dataframe tbody tr th {\n        vertical-align: top;\n    }\n\n    .dataframe thead th {\n        text-align: right;\n    }\n</style>\n<table border=\"1\" class=\"dataframe\">\n  <thead>\n    <tr style=\"text-align: right;\">\n      <th></th>\n      <th>0</th>\n      <th>1</th>\n      <th>2</th>\n      <th>3</th>\n      <th>4</th>\n    </tr>\n  </thead>\n  <tbody>\n    <tr>\n      <th>0</th>\n      <td>0.148201</td>\n      <td>0.117928</td>\n      <td>0.788403</td>\n      <td>0.885271</td>\n      <td>0.292030</td>\n    </tr>\n    <tr>\n      <th>1</th>\n      <td>0.303767</td>\n      <td>0.873540</td>\n      <td>0.863133</td>\n      <td>0.131168</td>\n      <td>0.385390</td>\n    </tr>\n    <tr>\n      <th>2</th>\n      <td>0.808746</td>\n      <td>0.157618</td>\n      <td>0.220153</td>\n      <td>0.635851</td>\n      <td>0.751146</td>\n    </tr>\n    <tr>\n      <th>3</th>\n      <td>0.860344</td>\n      <td>0.899856</td>\n      <td>0.213996</td>\n      <td>0.774135</td>\n      <td>0.914150</td>\n    </tr>\n    <tr>\n      <th>4</th>\n      <td>0.079452</td>\n      <td>0.316646</td>\n      <td>0.724304</td>\n      <td>0.937449</td>\n      <td>0.706278</td>\n    </tr>\n    <tr>\n      <th>...</th>\n      <td>...</td>\n      <td>...</td>\n      <td>...</td>\n      <td>...</td>\n      <td>...</td>\n    </tr>\n    <tr>\n      <th>329</th>\n      <td>0.553746</td>\n      <td>0.386381</td>\n      <td>0.499074</td>\n      <td>0.843573</td>\n      <td>0.946705</td>\n    </tr>\n    <tr>\n      <th>330</th>\n      <td>0.380056</td>\n      <td>0.983924</td>\n      <td>0.627664</td>\n      <td>0.981230</td>\n      <td>0.166442</td>\n    </tr>\n    <tr>\n      <th>331</th>\n      <td>0.335835</td>\n      <td>0.390459</td>\n      <td>0.686720</td>\n      <td>0.030222</td>\n      <td>0.881853</td>\n    </tr>\n    <tr>\n      <th>332</th>\n      <td>0.056425</td>\n      <td>0.021443</td>\n      <td>0.766047</td>\n      <td>0.539329</td>\n      <td>0.291349</td>\n    </tr>\n    <tr>\n      <th>333</th>\n      <td>0.816640</td>\n      <td>0.650784</td>\n      <td>0.805392</td>\n      <td>0.111066</td>\n      <td>0.570964</td>\n    </tr>\n  </tbody>\n</table>\n<p>334 rows × 5 columns</p>\n</div>"
     },
     "execution_count": 37,
     "metadata": {},
     "output_type": "execute_result"
    }
   ],
   "source": [
    "newdf2"
   ]
  },
  {
   "cell_type": "code",
   "execution_count": 38,
   "id": "ed5d261f",
   "metadata": {
    "pycharm": {
     "name": "#%%\n"
    }
   },
   "outputs": [],
   "source": [
    "newdf.loc[0,0] = 654"
   ]
  },
  {
   "cell_type": "code",
   "execution_count": 39,
   "id": "9acdd15e",
   "metadata": {
    "pycharm": {
     "name": "#%%\n"
    }
   },
   "outputs": [
    {
     "data": {
      "text/plain": "              0         1         2         3         4\n0    654.000000  0.117928  0.788403  0.885271  0.292030\n1      0.303767  0.873540  0.863133  0.131168  0.385390\n2      0.808746  0.157618  0.220153  0.635851  0.751146\n3      0.860344  0.899856  0.213996  0.774135  0.914150\n4      0.079452  0.316646  0.724304  0.937449  0.706278\n..          ...       ...       ...       ...       ...\n329    0.553746  0.386381  0.499074  0.843573  0.946705\n330    0.380056  0.983924  0.627664  0.981230  0.166442\n331    0.335835  0.390459  0.686720  0.030222  0.881853\n332    0.056425  0.021443  0.766047  0.539329  0.291349\n333    0.816640  0.650784  0.805392  0.111066  0.570964\n\n[334 rows x 5 columns]",
      "text/html": "<div>\n<style scoped>\n    .dataframe tbody tr th:only-of-type {\n        vertical-align: middle;\n    }\n\n    .dataframe tbody tr th {\n        vertical-align: top;\n    }\n\n    .dataframe thead th {\n        text-align: right;\n    }\n</style>\n<table border=\"1\" class=\"dataframe\">\n  <thead>\n    <tr style=\"text-align: right;\">\n      <th></th>\n      <th>0</th>\n      <th>1</th>\n      <th>2</th>\n      <th>3</th>\n      <th>4</th>\n    </tr>\n  </thead>\n  <tbody>\n    <tr>\n      <th>0</th>\n      <td>654.000000</td>\n      <td>0.117928</td>\n      <td>0.788403</td>\n      <td>0.885271</td>\n      <td>0.292030</td>\n    </tr>\n    <tr>\n      <th>1</th>\n      <td>0.303767</td>\n      <td>0.873540</td>\n      <td>0.863133</td>\n      <td>0.131168</td>\n      <td>0.385390</td>\n    </tr>\n    <tr>\n      <th>2</th>\n      <td>0.808746</td>\n      <td>0.157618</td>\n      <td>0.220153</td>\n      <td>0.635851</td>\n      <td>0.751146</td>\n    </tr>\n    <tr>\n      <th>3</th>\n      <td>0.860344</td>\n      <td>0.899856</td>\n      <td>0.213996</td>\n      <td>0.774135</td>\n      <td>0.914150</td>\n    </tr>\n    <tr>\n      <th>4</th>\n      <td>0.079452</td>\n      <td>0.316646</td>\n      <td>0.724304</td>\n      <td>0.937449</td>\n      <td>0.706278</td>\n    </tr>\n    <tr>\n      <th>...</th>\n      <td>...</td>\n      <td>...</td>\n      <td>...</td>\n      <td>...</td>\n      <td>...</td>\n    </tr>\n    <tr>\n      <th>329</th>\n      <td>0.553746</td>\n      <td>0.386381</td>\n      <td>0.499074</td>\n      <td>0.843573</td>\n      <td>0.946705</td>\n    </tr>\n    <tr>\n      <th>330</th>\n      <td>0.380056</td>\n      <td>0.983924</td>\n      <td>0.627664</td>\n      <td>0.981230</td>\n      <td>0.166442</td>\n    </tr>\n    <tr>\n      <th>331</th>\n      <td>0.335835</td>\n      <td>0.390459</td>\n      <td>0.686720</td>\n      <td>0.030222</td>\n      <td>0.881853</td>\n    </tr>\n    <tr>\n      <th>332</th>\n      <td>0.056425</td>\n      <td>0.021443</td>\n      <td>0.766047</td>\n      <td>0.539329</td>\n      <td>0.291349</td>\n    </tr>\n    <tr>\n      <th>333</th>\n      <td>0.816640</td>\n      <td>0.650784</td>\n      <td>0.805392</td>\n      <td>0.111066</td>\n      <td>0.570964</td>\n    </tr>\n  </tbody>\n</table>\n<p>334 rows × 5 columns</p>\n</div>"
     },
     "execution_count": 39,
     "metadata": {},
     "output_type": "execute_result"
    }
   ],
   "source": [
    "newdf"
   ]
  },
  {
   "cell_type": "code",
   "execution_count": 40,
   "id": "009b9d0a",
   "metadata": {
    "pycharm": {
     "name": "#%%\n"
    }
   },
   "outputs": [],
   "source": [
    "newdf.columns = list(\"ABCDE\")"
   ]
  },
  {
   "cell_type": "code",
   "execution_count": 41,
   "id": "a57fd404",
   "metadata": {
    "pycharm": {
     "name": "#%%\n"
    }
   },
   "outputs": [
    {
     "data": {
      "text/plain": "              A         B         C         D         E\n0    654.000000  0.117928  0.788403  0.885271  0.292030\n1      0.303767  0.873540  0.863133  0.131168  0.385390\n2      0.808746  0.157618  0.220153  0.635851  0.751146\n3      0.860344  0.899856  0.213996  0.774135  0.914150\n4      0.079452  0.316646  0.724304  0.937449  0.706278\n..          ...       ...       ...       ...       ...\n329    0.553746  0.386381  0.499074  0.843573  0.946705\n330    0.380056  0.983924  0.627664  0.981230  0.166442\n331    0.335835  0.390459  0.686720  0.030222  0.881853\n332    0.056425  0.021443  0.766047  0.539329  0.291349\n333    0.816640  0.650784  0.805392  0.111066  0.570964\n\n[334 rows x 5 columns]",
      "text/html": "<div>\n<style scoped>\n    .dataframe tbody tr th:only-of-type {\n        vertical-align: middle;\n    }\n\n    .dataframe tbody tr th {\n        vertical-align: top;\n    }\n\n    .dataframe thead th {\n        text-align: right;\n    }\n</style>\n<table border=\"1\" class=\"dataframe\">\n  <thead>\n    <tr style=\"text-align: right;\">\n      <th></th>\n      <th>A</th>\n      <th>B</th>\n      <th>C</th>\n      <th>D</th>\n      <th>E</th>\n    </tr>\n  </thead>\n  <tbody>\n    <tr>\n      <th>0</th>\n      <td>654.000000</td>\n      <td>0.117928</td>\n      <td>0.788403</td>\n      <td>0.885271</td>\n      <td>0.292030</td>\n    </tr>\n    <tr>\n      <th>1</th>\n      <td>0.303767</td>\n      <td>0.873540</td>\n      <td>0.863133</td>\n      <td>0.131168</td>\n      <td>0.385390</td>\n    </tr>\n    <tr>\n      <th>2</th>\n      <td>0.808746</td>\n      <td>0.157618</td>\n      <td>0.220153</td>\n      <td>0.635851</td>\n      <td>0.751146</td>\n    </tr>\n    <tr>\n      <th>3</th>\n      <td>0.860344</td>\n      <td>0.899856</td>\n      <td>0.213996</td>\n      <td>0.774135</td>\n      <td>0.914150</td>\n    </tr>\n    <tr>\n      <th>4</th>\n      <td>0.079452</td>\n      <td>0.316646</td>\n      <td>0.724304</td>\n      <td>0.937449</td>\n      <td>0.706278</td>\n    </tr>\n    <tr>\n      <th>...</th>\n      <td>...</td>\n      <td>...</td>\n      <td>...</td>\n      <td>...</td>\n      <td>...</td>\n    </tr>\n    <tr>\n      <th>329</th>\n      <td>0.553746</td>\n      <td>0.386381</td>\n      <td>0.499074</td>\n      <td>0.843573</td>\n      <td>0.946705</td>\n    </tr>\n    <tr>\n      <th>330</th>\n      <td>0.380056</td>\n      <td>0.983924</td>\n      <td>0.627664</td>\n      <td>0.981230</td>\n      <td>0.166442</td>\n    </tr>\n    <tr>\n      <th>331</th>\n      <td>0.335835</td>\n      <td>0.390459</td>\n      <td>0.686720</td>\n      <td>0.030222</td>\n      <td>0.881853</td>\n    </tr>\n    <tr>\n      <th>332</th>\n      <td>0.056425</td>\n      <td>0.021443</td>\n      <td>0.766047</td>\n      <td>0.539329</td>\n      <td>0.291349</td>\n    </tr>\n    <tr>\n      <th>333</th>\n      <td>0.816640</td>\n      <td>0.650784</td>\n      <td>0.805392</td>\n      <td>0.111066</td>\n      <td>0.570964</td>\n    </tr>\n  </tbody>\n</table>\n<p>334 rows × 5 columns</p>\n</div>"
     },
     "execution_count": 41,
     "metadata": {},
     "output_type": "execute_result"
    }
   ],
   "source": [
    "newdf"
   ]
  },
  {
   "cell_type": "code",
   "execution_count": 42,
   "id": "eec1ca1b",
   "metadata": {
    "pycharm": {
     "name": "#%%\n"
    }
   },
   "outputs": [
    {
     "data": {
      "text/plain": "Int64Index([  0,   1,   2,   3,   4,   5,   6,   7,   8,   9,\n            ...\n            324, 325, 326, 327, 328, 329, 330, 331, 332, 333],\n           dtype='int64', length=334)"
     },
     "execution_count": 42,
     "metadata": {},
     "output_type": "execute_result"
    }
   ],
   "source": [
    "newdf.index"
   ]
  },
  {
   "cell_type": "code",
   "execution_count": 43,
   "id": "f4626611",
   "metadata": {
    "pycharm": {
     "name": "#%%\n"
    }
   },
   "outputs": [],
   "source": [
    "newdf.index = newdf.index+1"
   ]
  },
  {
   "cell_type": "code",
   "execution_count": 44,
   "id": "4e509cf2",
   "metadata": {
    "pycharm": {
     "name": "#%%\n"
    }
   },
   "outputs": [
    {
     "data": {
      "text/plain": "              A         B         C         D         E\n1    654.000000  0.117928  0.788403  0.885271  0.292030\n2      0.303767  0.873540  0.863133  0.131168  0.385390\n3      0.808746  0.157618  0.220153  0.635851  0.751146\n4      0.860344  0.899856  0.213996  0.774135  0.914150\n5      0.079452  0.316646  0.724304  0.937449  0.706278\n..          ...       ...       ...       ...       ...\n330    0.553746  0.386381  0.499074  0.843573  0.946705\n331    0.380056  0.983924  0.627664  0.981230  0.166442\n332    0.335835  0.390459  0.686720  0.030222  0.881853\n333    0.056425  0.021443  0.766047  0.539329  0.291349\n334    0.816640  0.650784  0.805392  0.111066  0.570964\n\n[334 rows x 5 columns]",
      "text/html": "<div>\n<style scoped>\n    .dataframe tbody tr th:only-of-type {\n        vertical-align: middle;\n    }\n\n    .dataframe tbody tr th {\n        vertical-align: top;\n    }\n\n    .dataframe thead th {\n        text-align: right;\n    }\n</style>\n<table border=\"1\" class=\"dataframe\">\n  <thead>\n    <tr style=\"text-align: right;\">\n      <th></th>\n      <th>A</th>\n      <th>B</th>\n      <th>C</th>\n      <th>D</th>\n      <th>E</th>\n    </tr>\n  </thead>\n  <tbody>\n    <tr>\n      <th>1</th>\n      <td>654.000000</td>\n      <td>0.117928</td>\n      <td>0.788403</td>\n      <td>0.885271</td>\n      <td>0.292030</td>\n    </tr>\n    <tr>\n      <th>2</th>\n      <td>0.303767</td>\n      <td>0.873540</td>\n      <td>0.863133</td>\n      <td>0.131168</td>\n      <td>0.385390</td>\n    </tr>\n    <tr>\n      <th>3</th>\n      <td>0.808746</td>\n      <td>0.157618</td>\n      <td>0.220153</td>\n      <td>0.635851</td>\n      <td>0.751146</td>\n    </tr>\n    <tr>\n      <th>4</th>\n      <td>0.860344</td>\n      <td>0.899856</td>\n      <td>0.213996</td>\n      <td>0.774135</td>\n      <td>0.914150</td>\n    </tr>\n    <tr>\n      <th>5</th>\n      <td>0.079452</td>\n      <td>0.316646</td>\n      <td>0.724304</td>\n      <td>0.937449</td>\n      <td>0.706278</td>\n    </tr>\n    <tr>\n      <th>...</th>\n      <td>...</td>\n      <td>...</td>\n      <td>...</td>\n      <td>...</td>\n      <td>...</td>\n    </tr>\n    <tr>\n      <th>330</th>\n      <td>0.553746</td>\n      <td>0.386381</td>\n      <td>0.499074</td>\n      <td>0.843573</td>\n      <td>0.946705</td>\n    </tr>\n    <tr>\n      <th>331</th>\n      <td>0.380056</td>\n      <td>0.983924</td>\n      <td>0.627664</td>\n      <td>0.981230</td>\n      <td>0.166442</td>\n    </tr>\n    <tr>\n      <th>332</th>\n      <td>0.335835</td>\n      <td>0.390459</td>\n      <td>0.686720</td>\n      <td>0.030222</td>\n      <td>0.881853</td>\n    </tr>\n    <tr>\n      <th>333</th>\n      <td>0.056425</td>\n      <td>0.021443</td>\n      <td>0.766047</td>\n      <td>0.539329</td>\n      <td>0.291349</td>\n    </tr>\n    <tr>\n      <th>334</th>\n      <td>0.816640</td>\n      <td>0.650784</td>\n      <td>0.805392</td>\n      <td>0.111066</td>\n      <td>0.570964</td>\n    </tr>\n  </tbody>\n</table>\n<p>334 rows × 5 columns</p>\n</div>"
     },
     "execution_count": 44,
     "metadata": {},
     "output_type": "execute_result"
    }
   ],
   "source": [
    "newdf"
   ]
  },
  {
   "cell_type": "code",
   "execution_count": 45,
   "id": "aa6c1c79",
   "metadata": {
    "pycharm": {
     "name": "#%%\n"
    }
   },
   "outputs": [
    {
     "data": {
      "text/plain": "     Name  Roll_No.    City\n1  Ashish  22082028  Morena\n2  Sameer  22082027  Bhopal\n3  Rajesh  22082031   Patna\n4  Preity  22092032   Patna",
      "text/html": "<div>\n<style scoped>\n    .dataframe tbody tr th:only-of-type {\n        vertical-align: middle;\n    }\n\n    .dataframe tbody tr th {\n        vertical-align: top;\n    }\n\n    .dataframe thead th {\n        text-align: right;\n    }\n</style>\n<table border=\"1\" class=\"dataframe\">\n  <thead>\n    <tr style=\"text-align: right;\">\n      <th></th>\n      <th>Name</th>\n      <th>Roll_No.</th>\n      <th>City</th>\n    </tr>\n  </thead>\n  <tbody>\n    <tr>\n      <th>1</th>\n      <td>Ashish</td>\n      <td>22082028</td>\n      <td>Morena</td>\n    </tr>\n    <tr>\n      <th>2</th>\n      <td>Sameer</td>\n      <td>22082027</td>\n      <td>Bhopal</td>\n    </tr>\n    <tr>\n      <th>3</th>\n      <td>Rajesh</td>\n      <td>22082031</td>\n      <td>Patna</td>\n    </tr>\n    <tr>\n      <th>4</th>\n      <td>Preity</td>\n      <td>22092032</td>\n      <td>Patna</td>\n    </tr>\n  </tbody>\n</table>\n</div>"
     },
     "execution_count": 45,
     "metadata": {},
     "output_type": "execute_result"
    }
   ],
   "source": [
    "df"
   ]
  },
  {
   "cell_type": "code",
   "execution_count": 46,
   "id": "6d4d4b76",
   "metadata": {
    "pycharm": {
     "name": "#%%\n"
    }
   },
   "outputs": [],
   "source": [
    "df.loc[\"1\",\"Hostel\"] = \"DSR\""
   ]
  },
  {
   "cell_type": "code",
   "execution_count": 47,
   "id": "c91bb236",
   "metadata": {
    "pycharm": {
     "name": "#%%\n"
    }
   },
   "outputs": [
    {
     "data": {
      "text/plain": "     Name  Roll_No.    City Hostel\n1  Ashish  22082028  Morena    DSR\n2  Sameer  22082027  Bhopal    NaN\n3  Rajesh  22082031   Patna    NaN\n4  Preity  22092032   Patna    NaN",
      "text/html": "<div>\n<style scoped>\n    .dataframe tbody tr th:only-of-type {\n        vertical-align: middle;\n    }\n\n    .dataframe tbody tr th {\n        vertical-align: top;\n    }\n\n    .dataframe thead th {\n        text-align: right;\n    }\n</style>\n<table border=\"1\" class=\"dataframe\">\n  <thead>\n    <tr style=\"text-align: right;\">\n      <th></th>\n      <th>Name</th>\n      <th>Roll_No.</th>\n      <th>City</th>\n      <th>Hostel</th>\n    </tr>\n  </thead>\n  <tbody>\n    <tr>\n      <th>1</th>\n      <td>Ashish</td>\n      <td>22082028</td>\n      <td>Morena</td>\n      <td>DSR</td>\n    </tr>\n    <tr>\n      <th>2</th>\n      <td>Sameer</td>\n      <td>22082027</td>\n      <td>Bhopal</td>\n      <td>NaN</td>\n    </tr>\n    <tr>\n      <th>3</th>\n      <td>Rajesh</td>\n      <td>22082031</td>\n      <td>Patna</td>\n      <td>NaN</td>\n    </tr>\n    <tr>\n      <th>4</th>\n      <td>Preity</td>\n      <td>22092032</td>\n      <td>Patna</td>\n      <td>NaN</td>\n    </tr>\n  </tbody>\n</table>\n</div>"
     },
     "execution_count": 47,
     "metadata": {},
     "output_type": "execute_result"
    }
   ],
   "source": [
    "df"
   ]
  },
  {
   "cell_type": "code",
   "execution_count": 48,
   "id": "2596700c",
   "metadata": {
    "pycharm": {
     "name": "#%%\n"
    }
   },
   "outputs": [],
   "source": [
    "df.loc[\"Hostel\"] = (\"DSR\",\"DSR\",\"DSR\",\"GSE\",)"
   ]
  },
  {
   "cell_type": "code",
   "execution_count": 49,
   "id": "9e5ca3a8",
   "metadata": {
    "pycharm": {
     "name": "#%%\n"
    }
   },
   "outputs": [
    {
     "data": {
      "text/plain": "          Name  Roll_No.    City Hostel\n1       Ashish  22082028  Morena    DSR\n2       Sameer  22082027  Bhopal    NaN\n3       Rajesh  22082031   Patna    NaN\n4       Preity  22092032   Patna    NaN\nHostel     DSR       DSR     DSR    GSE",
      "text/html": "<div>\n<style scoped>\n    .dataframe tbody tr th:only-of-type {\n        vertical-align: middle;\n    }\n\n    .dataframe tbody tr th {\n        vertical-align: top;\n    }\n\n    .dataframe thead th {\n        text-align: right;\n    }\n</style>\n<table border=\"1\" class=\"dataframe\">\n  <thead>\n    <tr style=\"text-align: right;\">\n      <th></th>\n      <th>Name</th>\n      <th>Roll_No.</th>\n      <th>City</th>\n      <th>Hostel</th>\n    </tr>\n  </thead>\n  <tbody>\n    <tr>\n      <th>1</th>\n      <td>Ashish</td>\n      <td>22082028</td>\n      <td>Morena</td>\n      <td>DSR</td>\n    </tr>\n    <tr>\n      <th>2</th>\n      <td>Sameer</td>\n      <td>22082027</td>\n      <td>Bhopal</td>\n      <td>NaN</td>\n    </tr>\n    <tr>\n      <th>3</th>\n      <td>Rajesh</td>\n      <td>22082031</td>\n      <td>Patna</td>\n      <td>NaN</td>\n    </tr>\n    <tr>\n      <th>4</th>\n      <td>Preity</td>\n      <td>22092032</td>\n      <td>Patna</td>\n      <td>NaN</td>\n    </tr>\n    <tr>\n      <th>Hostel</th>\n      <td>DSR</td>\n      <td>DSR</td>\n      <td>DSR</td>\n      <td>GSE</td>\n    </tr>\n  </tbody>\n</table>\n</div>"
     },
     "execution_count": 49,
     "metadata": {},
     "output_type": "execute_result"
    }
   ],
   "source": [
    "df"
   ]
  },
  {
   "cell_type": "code",
   "execution_count": 50,
   "id": "bb3a5bf6",
   "metadata": {
    "pycharm": {
     "name": "#%%\n"
    }
   },
   "outputs": [
    {
     "data": {
      "text/plain": "          Name  Roll_No.    City Hostel\n1       Ashish  22082028  Morena    DSR\n2       Sameer  22082027  Bhopal    NaN\n3       Rajesh  22082031   Patna    NaN\n4       Preity  22092032   Patna    NaN\nHostel     DSR       DSR     DSR    GSE",
      "text/html": "<div>\n<style scoped>\n    .dataframe tbody tr th:only-of-type {\n        vertical-align: middle;\n    }\n\n    .dataframe tbody tr th {\n        vertical-align: top;\n    }\n\n    .dataframe thead th {\n        text-align: right;\n    }\n</style>\n<table border=\"1\" class=\"dataframe\">\n  <thead>\n    <tr style=\"text-align: right;\">\n      <th></th>\n      <th>Name</th>\n      <th>Roll_No.</th>\n      <th>City</th>\n      <th>Hostel</th>\n    </tr>\n  </thead>\n  <tbody>\n    <tr>\n      <th>1</th>\n      <td>Ashish</td>\n      <td>22082028</td>\n      <td>Morena</td>\n      <td>DSR</td>\n    </tr>\n    <tr>\n      <th>2</th>\n      <td>Sameer</td>\n      <td>22082027</td>\n      <td>Bhopal</td>\n      <td>NaN</td>\n    </tr>\n    <tr>\n      <th>3</th>\n      <td>Rajesh</td>\n      <td>22082031</td>\n      <td>Patna</td>\n      <td>NaN</td>\n    </tr>\n    <tr>\n      <th>4</th>\n      <td>Preity</td>\n      <td>22092032</td>\n      <td>Patna</td>\n      <td>NaN</td>\n    </tr>\n    <tr>\n      <th>Hostel</th>\n      <td>DSR</td>\n      <td>DSR</td>\n      <td>DSR</td>\n      <td>GSE</td>\n    </tr>\n  </tbody>\n</table>\n</div>"
     },
     "execution_count": 50,
     "metadata": {},
     "output_type": "execute_result"
    }
   ],
   "source": [
    "df"
   ]
  },
  {
   "cell_type": "code",
   "execution_count": 51,
   "id": "08ff4d1d",
   "metadata": {
    "pycharm": {
     "name": "#%%\n"
    }
   },
   "outputs": [
    {
     "data": {
      "text/plain": "     Name  Roll_No.    City Hostel\n1  Ashish  22082028  Morena    DSR\n2  Sameer  22082027  Bhopal    NaN\n3  Rajesh  22082031   Patna    NaN\n4  Preity  22092032   Patna    NaN",
      "text/html": "<div>\n<style scoped>\n    .dataframe tbody tr th:only-of-type {\n        vertical-align: middle;\n    }\n\n    .dataframe tbody tr th {\n        vertical-align: top;\n    }\n\n    .dataframe thead th {\n        text-align: right;\n    }\n</style>\n<table border=\"1\" class=\"dataframe\">\n  <thead>\n    <tr style=\"text-align: right;\">\n      <th></th>\n      <th>Name</th>\n      <th>Roll_No.</th>\n      <th>City</th>\n      <th>Hostel</th>\n    </tr>\n  </thead>\n  <tbody>\n    <tr>\n      <th>1</th>\n      <td>Ashish</td>\n      <td>22082028</td>\n      <td>Morena</td>\n      <td>DSR</td>\n    </tr>\n    <tr>\n      <th>2</th>\n      <td>Sameer</td>\n      <td>22082027</td>\n      <td>Bhopal</td>\n      <td>NaN</td>\n    </tr>\n    <tr>\n      <th>3</th>\n      <td>Rajesh</td>\n      <td>22082031</td>\n      <td>Patna</td>\n      <td>NaN</td>\n    </tr>\n    <tr>\n      <th>4</th>\n      <td>Preity</td>\n      <td>22092032</td>\n      <td>Patna</td>\n      <td>NaN</td>\n    </tr>\n  </tbody>\n</table>\n</div>"
     },
     "execution_count": 51,
     "metadata": {},
     "output_type": "execute_result"
    }
   ],
   "source": [
    "df.drop('Hostel', axis=0)"
   ]
  },
  {
   "cell_type": "code",
   "execution_count": 52,
   "id": "3048567a",
   "metadata": {
    "pycharm": {
     "name": "#%%\n"
    }
   },
   "outputs": [],
   "source": [
    "calendar = pd.DataFrame(np.arange(30).reshape(5,6))"
   ]
  },
  {
   "cell_type": "code",
   "execution_count": 53,
   "id": "b131a69f",
   "metadata": {
    "pycharm": {
     "name": "#%%\n"
    }
   },
   "outputs": [
    {
     "data": {
      "text/plain": "    0   1   2   3   4   5\n0   0   1   2   3   4   5\n1   6   7   8   9  10  11\n2  12  13  14  15  16  17\n3  18  19  20  21  22  23\n4  24  25  26  27  28  29",
      "text/html": "<div>\n<style scoped>\n    .dataframe tbody tr th:only-of-type {\n        vertical-align: middle;\n    }\n\n    .dataframe tbody tr th {\n        vertical-align: top;\n    }\n\n    .dataframe thead th {\n        text-align: right;\n    }\n</style>\n<table border=\"1\" class=\"dataframe\">\n  <thead>\n    <tr style=\"text-align: right;\">\n      <th></th>\n      <th>0</th>\n      <th>1</th>\n      <th>2</th>\n      <th>3</th>\n      <th>4</th>\n      <th>5</th>\n    </tr>\n  </thead>\n  <tbody>\n    <tr>\n      <th>0</th>\n      <td>0</td>\n      <td>1</td>\n      <td>2</td>\n      <td>3</td>\n      <td>4</td>\n      <td>5</td>\n    </tr>\n    <tr>\n      <th>1</th>\n      <td>6</td>\n      <td>7</td>\n      <td>8</td>\n      <td>9</td>\n      <td>10</td>\n      <td>11</td>\n    </tr>\n    <tr>\n      <th>2</th>\n      <td>12</td>\n      <td>13</td>\n      <td>14</td>\n      <td>15</td>\n      <td>16</td>\n      <td>17</td>\n    </tr>\n    <tr>\n      <th>3</th>\n      <td>18</td>\n      <td>19</td>\n      <td>20</td>\n      <td>21</td>\n      <td>22</td>\n      <td>23</td>\n    </tr>\n    <tr>\n      <th>4</th>\n      <td>24</td>\n      <td>25</td>\n      <td>26</td>\n      <td>27</td>\n      <td>28</td>\n      <td>29</td>\n    </tr>\n  </tbody>\n</table>\n</div>"
     },
     "execution_count": 53,
     "metadata": {},
     "output_type": "execute_result"
    }
   ],
   "source": [
    "calendar"
   ]
  },
  {
   "cell_type": "code",
   "execution_count": 54,
   "id": "9f00accf",
   "metadata": {
    "pycharm": {
     "name": "#%%\n"
    }
   },
   "outputs": [],
   "source": [
    "calendar.columns = ['M','T','W','T','F','S']"
   ]
  },
  {
   "cell_type": "code",
   "execution_count": 55,
   "id": "c3a7c4ec",
   "metadata": {
    "pycharm": {
     "name": "#%%\n"
    }
   },
   "outputs": [
    {
     "data": {
      "text/plain": "    M   T   W   T   F   S\n0   0   1   2   3   4   5\n1   6   7   8   9  10  11\n2  12  13  14  15  16  17\n3  18  19  20  21  22  23\n4  24  25  26  27  28  29",
      "text/html": "<div>\n<style scoped>\n    .dataframe tbody tr th:only-of-type {\n        vertical-align: middle;\n    }\n\n    .dataframe tbody tr th {\n        vertical-align: top;\n    }\n\n    .dataframe thead th {\n        text-align: right;\n    }\n</style>\n<table border=\"1\" class=\"dataframe\">\n  <thead>\n    <tr style=\"text-align: right;\">\n      <th></th>\n      <th>M</th>\n      <th>T</th>\n      <th>W</th>\n      <th>T</th>\n      <th>F</th>\n      <th>S</th>\n    </tr>\n  </thead>\n  <tbody>\n    <tr>\n      <th>0</th>\n      <td>0</td>\n      <td>1</td>\n      <td>2</td>\n      <td>3</td>\n      <td>4</td>\n      <td>5</td>\n    </tr>\n    <tr>\n      <th>1</th>\n      <td>6</td>\n      <td>7</td>\n      <td>8</td>\n      <td>9</td>\n      <td>10</td>\n      <td>11</td>\n    </tr>\n    <tr>\n      <th>2</th>\n      <td>12</td>\n      <td>13</td>\n      <td>14</td>\n      <td>15</td>\n      <td>16</td>\n      <td>17</td>\n    </tr>\n    <tr>\n      <th>3</th>\n      <td>18</td>\n      <td>19</td>\n      <td>20</td>\n      <td>21</td>\n      <td>22</td>\n      <td>23</td>\n    </tr>\n    <tr>\n      <th>4</th>\n      <td>24</td>\n      <td>25</td>\n      <td>26</td>\n      <td>27</td>\n      <td>28</td>\n      <td>29</td>\n    </tr>\n  </tbody>\n</table>\n</div>"
     },
     "execution_count": 55,
     "metadata": {},
     "output_type": "execute_result"
    }
   ],
   "source": [
    "calendar"
   ]
  },
  {
   "cell_type": "code",
   "execution_count": 56,
   "id": "09b4fd54",
   "metadata": {
    "pycharm": {
     "name": "#%%\n"
    }
   },
   "outputs": [
    {
     "ename": "SyntaxError",
     "evalue": "cannot assign to function call here. Maybe you meant '==' instead of '='? (4288492087.py, line 1)",
     "output_type": "error",
     "traceback": [
      "\u001B[1;36m  Input \u001B[1;32mIn [56]\u001B[1;36m\u001B[0m\n\u001B[1;33m    calendar(5,'M') = '30'\u001B[0m\n\u001B[1;37m    ^\u001B[0m\n\u001B[1;31mSyntaxError\u001B[0m\u001B[1;31m:\u001B[0m cannot assign to function call here. Maybe you meant '==' instead of '='?\n"
     ]
    }
   ],
   "source": [
    "calendar(5,'M') = '30'"
   ]
  },
  {
   "cell_type": "code",
   "execution_count": null,
   "id": "f296812c",
   "metadata": {
    "pycharm": {
     "name": "#%%\n"
    }
   },
   "outputs": [],
   "source": [
    "calendar"
   ]
  },
  {
   "cell_type": "code",
   "execution_count": null,
   "id": "872c870b",
   "metadata": {
    "pycharm": {
     "name": "#%%\n"
    }
   },
   "outputs": [],
   "source": [
    "calendar.loc[\"5\",\"M\"] = '30'"
   ]
  },
  {
   "cell_type": "code",
   "execution_count": null,
   "id": "8a4c3d7b",
   "metadata": {
    "pycharm": {
     "name": "#%%\n"
    }
   },
   "outputs": [],
   "source": [
    "calendar"
   ]
  },
  {
   "cell_type": "code",
   "execution_count": null,
   "id": "1ebc2ba5",
   "metadata": {
    "pycharm": {
     "name": "#%%\n"
    }
   },
   "outputs": [],
   "source": [
    "calendar"
   ]
  },
  {
   "cell_type": "code",
   "execution_count": null,
   "id": "b0c945ab",
   "metadata": {
    "pycharm": {
     "name": "#%%\n"
    }
   },
   "outputs": [],
   "source": [
    "calendar.drop('5',axis=0)"
   ]
  },
  {
   "cell_type": "code",
   "execution_count": null,
   "id": "08679717",
   "metadata": {
    "pycharm": {
     "name": "#%%\n"
    }
   },
   "outputs": [],
   "source": [
    "calendar"
   ]
  },
  {
   "cell_type": "code",
   "execution_count": null,
   "id": "e3b776ec",
   "metadata": {
    "pycharm": {
     "name": "#%%\n"
    }
   },
   "outputs": [],
   "source": [
    "calendar"
   ]
  },
  {
   "cell_type": "code",
   "execution_count": null,
   "id": "cd6106fd",
   "metadata": {
    "pycharm": {
     "name": "#%%\n"
    }
   },
   "outputs": [],
   "source": [
    "calendar = calendar.drop('5',axis=0)"
   ]
  },
  {
   "cell_type": "code",
   "execution_count": null,
   "id": "476b349d",
   "metadata": {
    "pycharm": {
     "name": "#%%\n"
    }
   },
   "outputs": [],
   "source": [
    "calendar"
   ]
  },
  {
   "cell_type": "code",
   "execution_count": null,
   "id": "ad2aece0",
   "metadata": {
    "pycharm": {
     "name": "#%%\n"
    }
   },
   "outputs": [],
   "source": [
    "type('M')"
   ]
  },
  {
   "cell_type": "code",
   "execution_count": null,
   "id": "e19fe266",
   "metadata": {
    "pycharm": {
     "name": "#%%\n"
    }
   },
   "outputs": [],
   "source": [
    "friends"
   ]
  },
  {
   "cell_type": "code",
   "execution_count": null,
   "id": "6d9eb49f",
   "metadata": {
    "pycharm": {
     "name": "#%%\n"
    }
   },
   "outputs": [],
   "source": [
    "friends"
   ]
  },
  {
   "cell_type": "code",
   "execution_count": null,
   "id": "b0bb4335",
   "metadata": {
    "pycharm": {
     "name": "#%%\n"
    }
   },
   "outputs": [],
   "source": [
    "df"
   ]
  },
  {
   "cell_type": "code",
   "execution_count": null,
   "id": "1f8e8a0d",
   "metadata": {
    "pycharm": {
     "name": "#%%\n"
    }
   },
   "outputs": [],
   "source": [
    "friends = df"
   ]
  },
  {
   "cell_type": "code",
   "execution_count": null,
   "id": "c705559e",
   "metadata": {
    "pycharm": {
     "name": "#%%\n"
    }
   },
   "outputs": [],
   "source": [
    "friends"
   ]
  },
  {
   "cell_type": "code",
   "execution_count": null,
   "id": "e594d40e",
   "metadata": {
    "pycharm": {
     "name": "#%%\n"
    }
   },
   "outputs": [],
   "source": [
    "df"
   ]
  },
  {
   "cell_type": "code",
   "execution_count": null,
   "id": "08b24af8",
   "metadata": {
    "pycharm": {
     "name": "#%%\n"
    }
   },
   "outputs": [],
   "source": [
    "friends.drop('Hostel',axis=0)"
   ]
  },
  {
   "cell_type": "code",
   "execution_count": null,
   "id": "b9d8eb58",
   "metadata": {
    "pycharm": {
     "name": "#%%\n"
    }
   },
   "outputs": [],
   "source": [
    "friends.loc[[2,3,],['Hostel']] = 'DSR'"
   ]
  },
  {
   "cell_type": "code",
   "execution_count": null,
   "id": "d5f12f10",
   "metadata": {
    "pycharm": {
     "name": "#%%\n"
    }
   },
   "outputs": [],
   "source": [
    "friends"
   ]
  },
  {
   "cell_type": "code",
   "execution_count": null,
   "id": "e36566ac",
   "metadata": {
    "pycharm": {
     "name": "#%%\n"
    }
   },
   "outputs": [],
   "source": [
    "friends = friends.drop('Hostel',axis=0)"
   ]
  },
  {
   "cell_type": "code",
   "execution_count": null,
   "id": "d396c7d6",
   "metadata": {
    "pycharm": {
     "name": "#%%\n"
    }
   },
   "outputs": [],
   "source": [
    "friends"
   ]
  },
  {
   "cell_type": "code",
   "execution_count": null,
   "id": "fa8f5d70",
   "metadata": {
    "pycharm": {
     "name": "#%%\n"
    }
   },
   "outputs": [],
   "source": [
    "df.loc[:, 'Hostel'] = 'DSR'"
   ]
  },
  {
   "cell_type": "code",
   "execution_count": null,
   "id": "262e3b3d",
   "metadata": {
    "pycharm": {
     "name": "#%%\n"
    }
   },
   "outputs": [],
   "source": [
    "df"
   ]
  },
  {
   "cell_type": "code",
   "execution_count": null,
   "id": "911a5fc4",
   "metadata": {
    "pycharm": {
     "name": "#%%\n"
    }
   },
   "outputs": [],
   "source": [
    "df = df.drop('Hostel',axis=0)"
   ]
  },
  {
   "cell_type": "code",
   "execution_count": null,
   "id": "5b7f34c3",
   "metadata": {
    "pycharm": {
     "name": "#%%\n"
    }
   },
   "outputs": [],
   "source": [
    "df"
   ]
  },
  {
   "cell_type": "code",
   "execution_count": null,
   "id": "993b7cef",
   "metadata": {
    "pycharm": {
     "name": "#%%\n"
    }
   },
   "outputs": [],
   "source": [
    "df.loc[['4'],['Hostel']] = 'GSE'"
   ]
  },
  {
   "cell_type": "code",
   "execution_count": null,
   "id": "315a723a",
   "metadata": {
    "pycharm": {
     "name": "#%%\n"
    }
   },
   "outputs": [],
   "source": [
    "df"
   ]
  },
  {
   "cell_type": "code",
   "execution_count": null,
   "id": "121a2b26",
   "metadata": {
    "pycharm": {
     "name": "#%%\n"
    }
   },
   "outputs": [],
   "source": [
    "df"
   ]
  },
  {
   "cell_type": "code",
   "execution_count": null,
   "id": "bce4a809",
   "metadata": {
    "pycharm": {
     "name": "#%%\n"
    }
   },
   "outputs": [],
   "source": [
    "friends = df.loc[['4'],['Hostel']] = 'GSE'"
   ]
  },
  {
   "cell_type": "code",
   "execution_count": null,
   "id": "4c077430",
   "metadata": {
    "pycharm": {
     "name": "#%%\n"
    }
   },
   "outputs": [],
   "source": [
    "friends"
   ]
  },
  {
   "cell_type": "code",
   "execution_count": null,
   "id": "85096dac",
   "metadata": {
    "pycharm": {
     "name": "#%%\n"
    }
   },
   "outputs": [],
   "source": [
    "friends = df"
   ]
  },
  {
   "cell_type": "code",
   "execution_count": null,
   "id": "16d4b21f",
   "metadata": {
    "pycharm": {
     "name": "#%%\n"
    }
   },
   "outputs": [],
   "source": [
    "friends"
   ]
  },
  {
   "cell_type": "code",
   "execution_count": null,
   "id": "dcccd5d2",
   "metadata": {
    "pycharm": {
     "name": "#%%\n"
    }
   },
   "outputs": [],
   "source": [
    "df.loc[['5'],['Name','City','Hostel']] = ('Maneesh','Kanpur','DSR')"
   ]
  },
  {
   "cell_type": "code",
   "execution_count": null,
   "id": "cec3f26a",
   "metadata": {
    "pycharm": {
     "name": "#%%\n"
    }
   },
   "outputs": [],
   "source": [
    "df"
   ]
  },
  {
   "cell_type": "code",
   "execution_count": null,
   "id": "20fb1f9b",
   "metadata": {
    "pycharm": {
     "name": "#%%\n"
    }
   },
   "outputs": [],
   "source": [
    "calendar.loc[\"5\",\"M\"] = '30'"
   ]
  },
  {
   "cell_type": "code",
   "execution_count": null,
   "id": "d59df699",
   "metadata": {
    "pycharm": {
     "name": "#%%\n"
    }
   },
   "outputs": [],
   "source": [
    "df.loc[\"5\",['Name','City','Hostel']] = 'Maneesh','Kanpur','DSR'"
   ]
  },
  {
   "cell_type": "code",
   "execution_count": null,
   "id": "0e1b3bc4",
   "metadata": {
    "pycharm": {
     "name": "#%%\n"
    }
   },
   "outputs": [],
   "source": [
    "df"
   ]
  },
  {
   "cell_type": "code",
   "execution_count": null,
   "id": "659a9d7d",
   "metadata": {
    "pycharm": {
     "name": "#%%\n"
    }
   },
   "outputs": [],
   "source": [
    "df.loc[:,['Name','City']]"
   ]
  },
  {
   "cell_type": "code",
   "execution_count": null,
   "id": "b3d14993",
   "metadata": {
    "pycharm": {
     "name": "#%%\n"
    }
   },
   "outputs": [],
   "source": [
    "df.loc[df['Hostel']=='DSR']"
   ]
  },
  {
   "cell_type": "code",
   "execution_count": null,
   "id": "fcbac9f7",
   "metadata": {
    "pycharm": {
     "name": "#%%\n"
    }
   },
   "outputs": [],
   "source": [
    "df.loc[df['Hostel']=='GSE']"
   ]
  },
  {
   "cell_type": "code",
   "execution_count": null,
   "id": "7af14eba",
   "metadata": {
    "pycharm": {
     "name": "#%%\n"
    }
   },
   "outputs": [],
   "source": [
    "df.loc[(df['Hostel']=='DSR') & (df['City']=='Patna')]"
   ]
  },
  {
   "cell_type": "code",
   "execution_count": null,
   "id": "9c67376b",
   "metadata": {
    "pycharm": {
     "name": "#%%\n"
    }
   },
   "outputs": [],
   "source": [
    "df"
   ]
  },
  {
   "cell_type": "code",
   "execution_count": null,
   "id": "53b1cb29",
   "metadata": {
    "pycharm": {
     "name": "#%%\n"
    }
   },
   "outputs": [],
   "source": [
    "df\n",
    "df.iloc[3,0]"
   ]
  },
  {
   "cell_type": "code",
   "execution_count": null,
   "id": "02d08eaf",
   "metadata": {
    "pycharm": {
     "name": "#%%\n"
    }
   },
   "outputs": [],
   "source": [
    "df.iloc[3,1] = 22082032"
   ]
  },
  {
   "cell_type": "code",
   "execution_count": null,
   "id": "32a81e69",
   "metadata": {
    "pycharm": {
     "name": "#%%\n"
    }
   },
   "outputs": [],
   "source": [
    "df"
   ]
  },
  {
   "cell_type": "code",
   "execution_count": null,
   "id": "80ff956c",
   "metadata": {
    "pycharm": {
     "name": "#%%\n"
    }
   },
   "outputs": [],
   "source": [
    "df.iloc[4,1] = '220820__'"
   ]
  },
  {
   "cell_type": "code",
   "execution_count": null,
   "id": "9748b12e",
   "metadata": {
    "pycharm": {
     "name": "#%%\n"
    }
   },
   "outputs": [],
   "source": [
    "df"
   ]
  },
  {
   "cell_type": "code",
   "execution_count": null,
   "id": "93bb236c",
   "metadata": {
    "pycharm": {
     "name": "#%%\n"
    }
   },
   "outputs": [],
   "source": [
    "df.iloc[5,0] = 'Sibam'"
   ]
  },
  {
   "cell_type": "code",
   "execution_count": null,
   "id": "d7fbafb1",
   "metadata": {
    "pycharm": {
     "name": "#%%\n"
    }
   },
   "outputs": [],
   "source": [
    "df.loc[\"6\",['Name','Roll_No.','City','Hostel']] = 'Sibam','220820__','Katak','DSR'"
   ]
  },
  {
   "cell_type": "code",
   "execution_count": null,
   "id": "7d170c55",
   "metadata": {
    "pycharm": {
     "name": "#%%\n"
    }
   },
   "outputs": [],
   "source": [
    "df"
   ]
  },
  {
   "cell_type": "code",
   "execution_count": null,
   "id": "c5759a1c",
   "metadata": {
    "pycharm": {
     "name": "#%%\n"
    }
   },
   "outputs": [],
   "source": [
    "df.info"
   ]
  },
  {
   "cell_type": "code",
   "execution_count": null,
   "outputs": [],
   "source": [
    "df.info()"
   ],
   "metadata": {
    "collapsed": false,
    "pycharm": {
     "name": "#%%\n"
    }
   }
  },
  {
   "cell_type": "code",
   "execution_count": null,
   "outputs": [],
   "source": [
    "df.describe"
   ],
   "metadata": {
    "collapsed": false,
    "pycharm": {
     "name": "#%%\n"
    }
   }
  },
  {
   "cell_type": "code",
   "execution_count": 57,
   "outputs": [
    {
     "data": {
      "text/plain": "          Name  Roll_No.   City Hostel\ncount        5         5      5      2\nunique       5         5      4      2\ntop     Ashish  22082028  Patna    DSR\nfreq         1         1      2      1",
      "text/html": "<div>\n<style scoped>\n    .dataframe tbody tr th:only-of-type {\n        vertical-align: middle;\n    }\n\n    .dataframe tbody tr th {\n        vertical-align: top;\n    }\n\n    .dataframe thead th {\n        text-align: right;\n    }\n</style>\n<table border=\"1\" class=\"dataframe\">\n  <thead>\n    <tr style=\"text-align: right;\">\n      <th></th>\n      <th>Name</th>\n      <th>Roll_No.</th>\n      <th>City</th>\n      <th>Hostel</th>\n    </tr>\n  </thead>\n  <tbody>\n    <tr>\n      <th>count</th>\n      <td>5</td>\n      <td>5</td>\n      <td>5</td>\n      <td>2</td>\n    </tr>\n    <tr>\n      <th>unique</th>\n      <td>5</td>\n      <td>5</td>\n      <td>4</td>\n      <td>2</td>\n    </tr>\n    <tr>\n      <th>top</th>\n      <td>Ashish</td>\n      <td>22082028</td>\n      <td>Patna</td>\n      <td>DSR</td>\n    </tr>\n    <tr>\n      <th>freq</th>\n      <td>1</td>\n      <td>1</td>\n      <td>2</td>\n      <td>1</td>\n    </tr>\n  </tbody>\n</table>\n</div>"
     },
     "execution_count": 57,
     "metadata": {},
     "output_type": "execute_result"
    }
   ],
   "source": [
    "df.describe()"
   ],
   "metadata": {
    "collapsed": false,
    "pycharm": {
     "name": "#%%\n"
    }
   }
  },
  {
   "cell_type": "code",
   "execution_count": 59,
   "outputs": [
    {
     "data": {
      "text/plain": "          Name  Roll_No.    City Hostel\n1       Ashish  22082028  Morena    DSR\n2       Sameer  22082027  Bhopal    NaN\n3       Rajesh  22082031   Patna    NaN\n4       Preity  22092032   Patna    NaN\nHostel     DSR       DSR     DSR    GSE",
      "text/html": "<div>\n<style scoped>\n    .dataframe tbody tr th:only-of-type {\n        vertical-align: middle;\n    }\n\n    .dataframe tbody tr th {\n        vertical-align: top;\n    }\n\n    .dataframe thead th {\n        text-align: right;\n    }\n</style>\n<table border=\"1\" class=\"dataframe\">\n  <thead>\n    <tr style=\"text-align: right;\">\n      <th></th>\n      <th>Name</th>\n      <th>Roll_No.</th>\n      <th>City</th>\n      <th>Hostel</th>\n    </tr>\n  </thead>\n  <tbody>\n    <tr>\n      <th>1</th>\n      <td>Ashish</td>\n      <td>22082028</td>\n      <td>Morena</td>\n      <td>DSR</td>\n    </tr>\n    <tr>\n      <th>2</th>\n      <td>Sameer</td>\n      <td>22082027</td>\n      <td>Bhopal</td>\n      <td>NaN</td>\n    </tr>\n    <tr>\n      <th>3</th>\n      <td>Rajesh</td>\n      <td>22082031</td>\n      <td>Patna</td>\n      <td>NaN</td>\n    </tr>\n    <tr>\n      <th>4</th>\n      <td>Preity</td>\n      <td>22092032</td>\n      <td>Patna</td>\n      <td>NaN</td>\n    </tr>\n    <tr>\n      <th>Hostel</th>\n      <td>DSR</td>\n      <td>DSR</td>\n      <td>DSR</td>\n      <td>GSE</td>\n    </tr>\n  </tbody>\n</table>\n</div>"
     },
     "execution_count": 59,
     "metadata": {},
     "output_type": "execute_result"
    }
   ],
   "source": [
    "df"
   ],
   "metadata": {
    "collapsed": false,
    "pycharm": {
     "name": "#%%\n"
    }
   }
  },
  {
   "cell_type": "code",
   "execution_count": null,
   "outputs": [],
   "source": [],
   "metadata": {
    "collapsed": false,
    "pycharm": {
     "name": "#%%\n"
    }
   }
  },
  {
   "cell_type": "code",
   "execution_count": 146,
   "id": "d4826d6e",
   "metadata": {
    "pycharm": {
     "name": "#%%\n"
    }
   },
   "outputs": [
    {
     "data": {
      "text/plain": [
       "<bound method NDFrame.describe of       Name  Roll_No.    City Hostel\n",
       "1   Ashish  22082028  Morena    DSR\n",
       "2   Sameer  22082027  Bhopal    DSR\n",
       "3   Rajesh  22082031   Patna    DSR\n",
       "4   Preity  22082032   Patna    GSE\n",
       "5  Maneesh  220820__  Kanpur    DSR\n",
       "6    Sibam  220820__   Katak    DSR>"
      ]
     },
     "execution_count": 146,
     "metadata": {},
     "output_type": "execute_result"
    }
   ],
   "source": [
    "df.describe"
   ]
  },
  {
   "cell_type": "code",
   "execution_count": 147,
   "id": "068f6e3a",
   "metadata": {
    "pycharm": {
     "name": "#%%\n"
    }
   },
   "outputs": [
    {
     "data": {
      "text/html": [
       "<div>\n",
       "<style scoped>\n",
       "    .dataframe tbody tr th:only-of-type {\n",
       "        vertical-align: middle;\n",
       "    }\n",
       "\n",
       "    .dataframe tbody tr th {\n",
       "        vertical-align: top;\n",
       "    }\n",
       "\n",
       "    .dataframe thead th {\n",
       "        text-align: right;\n",
       "    }\n",
       "</style>\n",
       "<table border=\"1\" class=\"dataframe\">\n",
       "  <thead>\n",
       "    <tr style=\"text-align: right;\">\n",
       "      <th></th>\n",
       "      <th>Name</th>\n",
       "      <th>Roll_No.</th>\n",
       "      <th>City</th>\n",
       "      <th>Hostel</th>\n",
       "    </tr>\n",
       "  </thead>\n",
       "  <tbody>\n",
       "    <tr>\n",
       "      <th>count</th>\n",
       "      <td>6</td>\n",
       "      <td>6</td>\n",
       "      <td>6</td>\n",
       "      <td>6</td>\n",
       "    </tr>\n",
       "    <tr>\n",
       "      <th>unique</th>\n",
       "      <td>6</td>\n",
       "      <td>5</td>\n",
       "      <td>5</td>\n",
       "      <td>2</td>\n",
       "    </tr>\n",
       "    <tr>\n",
       "      <th>top</th>\n",
       "      <td>Ashish</td>\n",
       "      <td>220820__</td>\n",
       "      <td>Patna</td>\n",
       "      <td>DSR</td>\n",
       "    </tr>\n",
       "    <tr>\n",
       "      <th>freq</th>\n",
       "      <td>1</td>\n",
       "      <td>2</td>\n",
       "      <td>2</td>\n",
       "      <td>5</td>\n",
       "    </tr>\n",
       "  </tbody>\n",
       "</table>\n",
       "</div>"
      ],
      "text/plain": [
       "          Name  Roll_No.   City Hostel\n",
       "count        6         6      6      6\n",
       "unique       6         5      5      2\n",
       "top     Ashish  220820__  Patna    DSR\n",
       "freq         1         2      2      5"
      ]
     },
     "execution_count": 147,
     "metadata": {},
     "output_type": "execute_result"
    }
   ],
   "source": [
    "df.describe()"
   ]
  },
  {
   "cell_type": "code",
   "execution_count": null,
   "id": "cd93dd7b",
   "metadata": {
    "pycharm": {
     "name": "#%%\n"
    }
   },
   "outputs": [],
   "source": []
  }
 ],
 "metadata": {
  "kernelspec": {
   "display_name": "Python 3 (ipykernel)",
   "language": "python",
   "name": "python3"
  },
  "language_info": {
   "codemirror_mode": {
    "name": "ipython",
    "version": 3
   },
   "file_extension": ".py",
   "mimetype": "text/x-python",
   "name": "python",
   "nbconvert_exporter": "python",
   "pygments_lexer": "ipython3",
   "version": "3.10.6"
  }
 },
 "nbformat": 4,
 "nbformat_minor": 5
}